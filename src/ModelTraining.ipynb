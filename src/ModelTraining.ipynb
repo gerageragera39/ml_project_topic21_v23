{
 "cells": [
  {
   "metadata": {
    "ExecuteTime": {
     "end_time": "2025-07-09T00:48:13.422081Z",
     "start_time": "2025-07-09T00:48:13.190279Z"
    }
   },
   "cell_type": "code",
   "source": [
    "import numpy as np\n",
    "import pandas as pd"
   ],
   "id": "92bb4794cc58e136",
   "outputs": [],
   "execution_count": 1
  },
  {
   "metadata": {
    "ExecuteTime": {
     "end_time": "2025-07-09T00:48:13.519101Z",
     "start_time": "2025-07-09T00:48:13.496730Z"
    }
   },
   "cell_type": "code",
   "source": [
    "loaded_data = pd.read_csv('../data/topic21_v23_train.csv')\n",
    "\n",
    "loaded_data.info()"
   ],
   "id": "5f2802455ebe3515",
   "outputs": [
    {
     "name": "stdout",
     "output_type": "stream",
     "text": [
      "<class 'pandas.core.frame.DataFrame'>\n",
      "RangeIndex: 7962 entries, 0 to 7961\n",
      "Data columns (total 19 columns):\n",
      " #   Column              Non-Null Count  Dtype  \n",
      "---  ------              --------------  -----  \n",
      " 0   0                   7501 non-null   float64\n",
      " 1   1                   7472 non-null   float64\n",
      " 2   2                   7359 non-null   float64\n",
      " 3   3                   7556 non-null   float64\n",
      " 4   4                   7495 non-null   float64\n",
      " 5   brand               7962 non-null   object \n",
      " 6   model               7962 non-null   object \n",
      " 7   trim                7951 non-null   object \n",
      " 8   body_type           7962 non-null   object \n",
      " 9   fuel_type           7962 non-null   object \n",
      " 10  transmission_type   7962 non-null   object \n",
      " 11  engine_capacity_cc  6362 non-null   object \n",
      " 12  horsepower          7584 non-null   object \n",
      " 13  exterior_color      7962 non-null   object \n",
      " 14  interior_color      7962 non-null   object \n",
      " 15  warranty            7962 non-null   object \n",
      " 16  city                7962 non-null   object \n",
      " 17  seller_type         7962 non-null   object \n",
      " 18  price               7962 non-null   int64  \n",
      "dtypes: float64(5), int64(1), object(13)\n",
      "memory usage: 1.2+ MB\n"
     ]
    }
   ],
   "execution_count": 2
  },
  {
   "metadata": {
    "ExecuteTime": {
     "end_time": "2025-07-09T10:42:58.512329Z",
     "start_time": "2025-07-09T10:42:58.499271Z"
    }
   },
   "cell_type": "code",
   "source": [
    "print(df['price'].describe())\n",
    "print(\"\\nstd:\", df['price'].std())\n",
    "\n",
    "\n",
    "print(\"median:\", df['price'].median())\n",
    "\n",
    "q99 = df['price'].quantile(0.99)\n",
    "print(\"\\n99-й quantile:\", q99)\n",
    "print(\"not in 99-го quantile:\", (df['price'] > q99).sum())"
   ],
   "id": "3142aca2d32cd875",
   "outputs": [
    {
     "name": "stdout",
     "output_type": "stream",
     "text": [
      "Основные статистики по price:\n",
      "count      7962.000000\n",
      "mean     163331.653228\n",
      "std      188397.899880\n",
      "min        1000.000000\n",
      "25%       44999.250000\n",
      "50%       93000.000000\n",
      "75%      207000.000000\n",
      "max      999900.000000\n",
      "Name: price, dtype: float64\n",
      "\n",
      "Стандартное отклонение (std): 188397.89988031407\n",
      "\n",
      "Количество пропусков в price: 0\n",
      "Медиана (median): 93000.0\n",
      "\n",
      "99-й перцентиль: 891340.000000002\n",
      "Количество цен выше 99-го перцентиля: 80\n"
     ]
    }
   ],
   "execution_count": 19
  },
  {
   "metadata": {
    "ExecuteTime": {
     "end_time": "2025-07-09T00:48:13.540680Z",
     "start_time": "2025-07-09T00:48:13.536008Z"
    }
   },
   "cell_type": "code",
   "source": [
    "def add_outlier_column(df, threshold=2.5):\n",
    "    df_copy = df.copy()\n",
    "\n",
    "    if 'price' not in df.columns:\n",
    "        numeric_cols = df.select_dtypes(include=['float64', 'int64'])\n",
    "    else:\n",
    "        numeric_cols = df.select_dtypes(include=['float64', 'int64']).drop('price', axis=1).columns\n",
    "\n",
    "    df_copy['is_outlier'] = 0\n",
    "    for col in numeric_cols:\n",
    "        z_scores = np.abs((df[col] - df[col].mean()) / df[col].std())\n",
    "        df_copy['is_outlier'] = (df_copy['is_outlier'] | (z_scores > threshold)).astype(int)\n",
    "\n",
    "    return df_copy\n",
    "\n"
   ],
   "id": "59ca03e299eaf657",
   "outputs": [],
   "execution_count": 3
  },
  {
   "metadata": {
    "ExecuteTime": {
     "end_time": "2025-07-09T00:48:13.578988Z",
     "start_time": "2025-07-09T00:48:13.550341Z"
    }
   },
   "cell_type": "code",
   "source": [
    "df = loaded_data.copy()\n",
    "\n",
    "\n",
    "def parse_mid(r):\n",
    "    if pd.isna(r) or r == 'Unknown': return np.nan\n",
    "    s = ''.join(c for c in r if c.isdigit() or c == '-')\n",
    "    if '-' in s:\n",
    "        lo, hi = map(int, s.split('-'))\n",
    "        return (lo + hi) / 2\n",
    "    return float(s)\n",
    "\n",
    "\n",
    "for col in ['engine_capacity_cc', 'horsepower']:\n",
    "    df[col + '_num'] = df[col].apply(parse_mid)\n",
    "    df[col + '_miss'] = df[col + '_num'].isna().astype(int)\n",
    "    df[col + '_num'] = df[col + '_num'].fillna(df[col + '_num'].median())\n",
    "    df.drop(columns=[col], inplace=True)\n",
    "\n",
    "df['is_automatic'] = (df['transmission_type'] == 'Automatic Transmission').astype(int)\n",
    "df = df.drop('transmission_type', axis=1)\n",
    "\n",
    "df['hp_per_cc'] = df['horsepower_num'] / df['engine_capacity_cc_num']\n",
    "\n",
    "df.info()"
   ],
   "id": "e879ff133df839f7",
   "outputs": [
    {
     "name": "stdout",
     "output_type": "stream",
     "text": [
      "<class 'pandas.core.frame.DataFrame'>\n",
      "RangeIndex: 7962 entries, 0 to 7961\n",
      "Data columns (total 22 columns):\n",
      " #   Column                   Non-Null Count  Dtype  \n",
      "---  ------                   --------------  -----  \n",
      " 0   0                        7501 non-null   float64\n",
      " 1   1                        7472 non-null   float64\n",
      " 2   2                        7359 non-null   float64\n",
      " 3   3                        7556 non-null   float64\n",
      " 4   4                        7495 non-null   float64\n",
      " 5   brand                    7962 non-null   object \n",
      " 6   model                    7962 non-null   object \n",
      " 7   trim                     7951 non-null   object \n",
      " 8   body_type                7962 non-null   object \n",
      " 9   fuel_type                7962 non-null   object \n",
      " 10  exterior_color           7962 non-null   object \n",
      " 11  interior_color           7962 non-null   object \n",
      " 12  warranty                 7962 non-null   object \n",
      " 13  city                     7962 non-null   object \n",
      " 14  seller_type              7962 non-null   object \n",
      " 15  price                    7962 non-null   int64  \n",
      " 16  engine_capacity_cc_num   7962 non-null   float64\n",
      " 17  engine_capacity_cc_miss  7962 non-null   int64  \n",
      " 18  horsepower_num           7962 non-null   float64\n",
      " 19  horsepower_miss          7962 non-null   int64  \n",
      " 20  is_automatic             7962 non-null   int64  \n",
      " 21  hp_per_cc                7962 non-null   float64\n",
      "dtypes: float64(8), int64(4), object(10)\n",
      "memory usage: 1.3+ MB\n"
     ]
    }
   ],
   "execution_count": 4
  },
  {
   "metadata": {
    "ExecuteTime": {
     "end_time": "2025-07-09T00:48:14.132026Z",
     "start_time": "2025-07-09T00:48:13.593623Z"
    }
   },
   "cell_type": "code",
   "source": [
    "from sklearn.model_selection import train_test_split\n",
    "\n",
    "train_set, valid_set = train_test_split(df, test_size=0.2, random_state=42)\n",
    "\n",
    "train_set = add_outlier_column(train_set)\n",
    "valid_set = add_outlier_column(valid_set)\n",
    "\n",
    "print(\"Number of True values train:\", train_set['is_outlier'].sum())\n",
    "print(\"Number of True values valid:\", valid_set['is_outlier'].sum())\n",
    "\n",
    "for col in ['model']:\n",
    "    means = train_set.groupby(col)['price'].mean()\n",
    "    train_set[col + '_enc'] = train_set[col].map(means)\n",
    "    valid_set[col + '_enc'] = valid_set[col].map(means)\n",
    "\n",
    "train_set.drop(columns=['model'], inplace=True)\n",
    "valid_set.drop(columns=['model'], inplace=True)\n"
   ],
   "id": "fe56e2145533f839",
   "outputs": [
    {
     "name": "stdout",
     "output_type": "stream",
     "text": [
      "Number of True values train: 1465\n",
      "Number of True values valid: 406\n"
     ]
    }
   ],
   "execution_count": 5
  },
  {
   "metadata": {
    "ExecuteTime": {
     "end_time": "2025-07-09T00:48:14.157627Z",
     "start_time": "2025-07-09T00:48:14.153080Z"
    }
   },
   "cell_type": "code",
   "source": [
    "X_train = train_set.drop(columns=['price'])\n",
    "y_train = train_set['price']\n",
    "\n",
    "# y_train = np.log1p(y_train)\n",
    "\n",
    "X_valid = valid_set.drop(columns=['price'])\n",
    "y_valid = valid_set['price']"
   ],
   "id": "35137a511f84dc73",
   "outputs": [],
   "execution_count": 6
  },
  {
   "metadata": {
    "ExecuteTime": {
     "end_time": "2025-07-09T00:48:14.193405Z",
     "start_time": "2025-07-09T00:48:14.188695Z"
    }
   },
   "cell_type": "code",
   "source": [
    "numerical_features = X_train.select_dtypes(include=['int64', 'float64']).columns.tolist()\n",
    "categorical_features = X_train.select_dtypes(include=['object']).columns.tolist()\n",
    "\n",
    "print(\"Numerical features:\", numerical_features)\n",
    "print(\"Categorical features:\", categorical_features)"
   ],
   "id": "7bcd2b2b1469d9ee",
   "outputs": [
    {
     "name": "stdout",
     "output_type": "stream",
     "text": [
      "Numerical features: ['0', '1', '2', '3', '4', 'engine_capacity_cc_num', 'engine_capacity_cc_miss', 'horsepower_num', 'horsepower_miss', 'is_automatic', 'hp_per_cc', 'is_outlier', 'model_enc']\n",
      "Categorical features: ['brand', 'trim', 'body_type', 'fuel_type', 'exterior_color', 'interior_color', 'warranty', 'city', 'seller_type']\n"
     ]
    }
   ],
   "execution_count": 7
  },
  {
   "metadata": {
    "ExecuteTime": {
     "end_time": "2025-07-09T00:48:14.231622Z",
     "start_time": "2025-07-09T00:48:14.225484Z"
    }
   },
   "cell_type": "code",
   "source": [
    "correlation = train_set[numerical_features + ['price']].corr()\n",
    "\n",
    "print(correlation['price'].sort_values(ascending=False))"
   ],
   "id": "409ee45ab55d3868",
   "outputs": [
    {
     "name": "stdout",
     "output_type": "stream",
     "text": [
      "price                      1.000000\n",
      "model_enc                  0.695101\n",
      "horsepower_num             0.409238\n",
      "0                          0.273631\n",
      "engine_capacity_cc_num     0.257073\n",
      "engine_capacity_cc_miss    0.175946\n",
      "hp_per_cc                  0.134919\n",
      "1                          0.019409\n",
      "is_outlier                 0.014194\n",
      "is_automatic               0.003505\n",
      "horsepower_miss           -0.046558\n",
      "4                         -0.131088\n",
      "3                         -0.242796\n",
      "2                         -0.311485\n",
      "Name: price, dtype: float64\n"
     ]
    }
   ],
   "execution_count": 8
  },
  {
   "metadata": {
    "ExecuteTime": {
     "end_time": "2025-07-09T00:48:14.344973Z",
     "start_time": "2025-07-09T00:48:14.265052Z"
    }
   },
   "cell_type": "code",
   "source": [
    "from sklearn.impute import SimpleImputer\n",
    "from sklearn.pipeline import Pipeline\n",
    "from sklearn.preprocessing import StandardScaler, OneHotEncoder\n",
    "from sklearn.compose import ColumnTransformer\n",
    "\n",
    "numeric_transformer = Pipeline(steps=[\n",
    "    ('imputer', SimpleImputer(strategy='mean')),\n",
    "    ('scaler', StandardScaler())\n",
    "])\n",
    "\n",
    "categorical_transformer = Pipeline(steps=[\n",
    "    ('imputer', SimpleImputer(strategy='most_frequent')),\n",
    "    ('onehot', OneHotEncoder(handle_unknown='ignore'))\n",
    "])\n",
    "\n",
    "preprocessor = ColumnTransformer(\n",
    "    transformers=[\n",
    "        ('num', numeric_transformer, numerical_features),\n",
    "        ('cat', categorical_transformer, categorical_features)\n",
    "    ])\n",
    "\n",
    "pipeline = Pipeline([\n",
    "    ('preprocessor', preprocessor)\n",
    "])\n",
    "\n",
    "X_train_transformed = pipeline.fit_transform(X_train)\n",
    "X_valid_transformed = pipeline.transform(X_valid)\n"
   ],
   "id": "339505afc427250c",
   "outputs": [],
   "execution_count": 9
  },
  {
   "metadata": {
    "ExecuteTime": {
     "end_time": "2025-07-09T00:48:14.542790Z",
     "start_time": "2025-07-09T00:48:14.385560Z"
    }
   },
   "cell_type": "code",
   "source": [
    "from sklearn.linear_model import LinearRegression, Ridge, Lasso, ElasticNet\n",
    "from sklearn.ensemble import RandomForestRegressor, GradientBoostingRegressor, AdaBoostRegressor, ExtraTreesRegressor\n",
    "from sklearn.tree import DecisionTreeRegressor\n",
    "from sklearn.svm import SVR\n",
    "from sklearn.neighbors import KNeighborsRegressor\n",
    "from sklearn.neural_network import MLPRegressor\n",
    "from xgboost import XGBRegressor\n",
    "from lightgbm import LGBMRegressor\n",
    "from catboost import CatBoostRegressor\n",
    "\n",
    "models = {\n",
    "    \"ExtraTrees\": ExtraTreesRegressor(random_state=42),\n",
    "\n",
    "    \"SVR\": SVR(),\n",
    "    \"RandomForest\": RandomForestRegressor(random_state=42),\n",
    "    \"XGBoost\": XGBRegressor(verbosity=0, random_state=42),\n",
    "    \"CatBoost\": CatBoostRegressor(verbose=0, random_state=42),\n",
    "\n",
    "    \"LinearRegression\": LinearRegression(),\n",
    "    \"Ridge\": Ridge(),\n",
    "    \"Lasso\": Lasso(),\n",
    "    \"ElasticNet\": ElasticNet(),\n",
    "    \"DecisionTree\": DecisionTreeRegressor(random_state=42),\n",
    "\n",
    "    \"GradientBoosting\": GradientBoostingRegressor(),\n",
    "    \"AdaBoost\": AdaBoostRegressor(),\n",
    "    \"KNeighbors\": KNeighborsRegressor(),\n",
    "    \"MLP\": MLPRegressor(max_iter=1000),\n",
    "    \"LightGBM\": LGBMRegressor()\n",
    "}\n"
   ],
   "id": "2bc794430e6eea62",
   "outputs": [],
   "execution_count": 10
  },
  {
   "metadata": {
    "ExecuteTime": {
     "end_time": "2025-07-09T00:48:14.586848Z",
     "start_time": "2025-07-09T00:48:14.583727Z"
    }
   },
   "cell_type": "code",
   "source": [
    "from sklearn.metrics import mean_squared_error, mean_absolute_error, r2_score\n",
    "import numpy as np\n",
    "\n",
    "\n",
    "def train_and_evaluate(models, X_train, y_train, X_valid, y_valid):\n",
    "    results = {}\n",
    "\n",
    "    for name, model in models.items():\n",
    "        print(f\"Training {name}...\")\n",
    "        model.fit(X_train, y_train)\n",
    "        predictions = model.predict(X_valid)\n",
    "\n",
    "        # predictions = np.expm1(predictions)\n",
    "\n",
    "        mse = mean_squared_error(y_valid, predictions)\n",
    "        rmse = np.sqrt(mse)\n",
    "        mae = mean_absolute_error(y_valid, predictions)\n",
    "        r2 = r2_score(y_valid, predictions)\n",
    "\n",
    "        results[name] = {\n",
    "            \"MSE\": mse,\n",
    "            \"RMSE\": rmse,\n",
    "            \"MAE\": mae,\n",
    "            \"R2\": r2\n",
    "        }\n",
    "    return results\n"
   ],
   "id": "70af277e7d73e59a",
   "outputs": [],
   "execution_count": 11
  },
  {
   "metadata": {
    "ExecuteTime": {
     "end_time": "2025-07-09T00:51:05.591131Z",
     "start_time": "2025-07-09T00:48:14.631793Z"
    }
   },
   "cell_type": "code",
   "source": [
    "from sklearn.model_selection import cross_val_score\n",
    "\n",
    "cv_scores = cross_val_score(models[\"ExtraTrees\"], X_train_transformed, y_train, cv=5,\n",
    "                            scoring='neg_mean_squared_error')\n",
    "\n",
    "rmse_scores = np.sqrt(-cv_scores)\n",
    "print(\"Cross-validation scores (RMSE):\")\n",
    "print(\"Mean RMSE: {:.2f} (+/- {:.2f})\".format(rmse_scores.mean(), rmse_scores.std() * 2))"
   ],
   "id": "280694ae45156461",
   "outputs": [
    {
     "name": "stdout",
     "output_type": "stream",
     "text": [
      "Cross-validation scores (RMSE):\n",
      "Mean RMSE: 102697.22 (+/- 19386.08)\n"
     ]
    }
   ],
   "execution_count": 12
  },
  {
   "metadata": {
    "ExecuteTime": {
     "end_time": "2025-07-09T00:53:56.568044Z",
     "start_time": "2025-07-09T00:51:05.636627Z"
    }
   },
   "cell_type": "code",
   "source": [
    "results = train_and_evaluate(models, X_train_transformed, y_train, X_valid_transformed, y_valid)\n",
    "results_df = pd.DataFrame(results).T.sort_values(by=\"RMSE\")\n",
    "print(results_df)\n",
    "\n",
    "#                      MSE           RMSE          MAE        R2\n",
    "# ExtraTrees        1.249172e+10  111766.347187   49114.416529  0.643662\n",
    "# CatBoost          1.363584e+10  116772.586727   56559.222097  0.611025\n",
    "# RandomForest      1.433247e+10  119718.292647   55151.764984  0.591153\n",
    "# LightGBM          1.518073e+10  123210.113594   59571.078308  0.566955\n",
    "# GradientBoosting  1.528405e+10  123628.661747   64333.711771  0.564008\n",
    "# KNeighbors        1.669191e+10  129197.175477   62823.422724  0.523847\n",
    "# Ridge             1.782411e+10  133506.982596   73239.950052  0.491550\n",
    "# MLP               1.831009e+10  135314.787550   77891.181087  0.477687\n",
    "# Lasso             1.840541e+10  135666.540440   73944.781059  0.474968\n",
    "# LinearRegression  1.844263e+10  135803.642767   74052.291161  0.473906\n",
    "# ElasticNet        1.915532e+10  138402.760991   80138.651567  0.453576\n",
    "# AdaBoost          1.939229e+10  139256.199828   88143.301391  0.446816\n",
    "# XGBoost           2.079412e+10  144201.665011   67901.914062  0.406828\n",
    "# DecisionTree      2.609980e+10  161554.334249   70082.174513  0.255478\n",
    "# SVR               3.999216e+10  199980.410485  117889.880474 -0.140815\n",
    "\n"
   ],
   "id": "2f624a08d465db88",
   "outputs": [
    {
     "name": "stdout",
     "output_type": "stream",
     "text": [
      "Training ExtraTrees...\n",
      "Training SVR...\n",
      "Training RandomForest...\n",
      "Training XGBoost...\n",
      "Training CatBoost...\n",
      "Training LinearRegression...\n",
      "Training Ridge...\n",
      "Training Lasso...\n"
     ]
    },
    {
     "name": "stderr",
     "output_type": "stream",
     "text": [
      "C:\\Users\\GED\\PycharmProjects\\Hands_on_ML\\.venv\\Lib\\site-packages\\sklearn\\linear_model\\_coordinate_descent.py:656: ConvergenceWarning: Objective did not converge. You might want to increase the number of iterations, check the scale of the features or consider increasing regularisation. Duality gap: 3.914e+12, tolerance: 2.267e+10\n",
      "  model = cd_fast.sparse_enet_coordinate_descent(\n"
     ]
    },
    {
     "name": "stdout",
     "output_type": "stream",
     "text": [
      "Training ElasticNet...\n",
      "Training DecisionTree...\n",
      "Training GradientBoosting...\n",
      "Training AdaBoost...\n",
      "Training KNeighbors...\n",
      "Training MLP...\n"
     ]
    },
    {
     "name": "stderr",
     "output_type": "stream",
     "text": [
      "C:\\Users\\GED\\PycharmProjects\\Hands_on_ML\\.venv\\Lib\\site-packages\\sklearn\\neural_network\\_multilayer_perceptron.py:780: ConvergenceWarning: Stochastic Optimizer: Maximum iterations (1000) reached and the optimization hasn't converged yet.\n",
      "  warnings.warn(\n"
     ]
    },
    {
     "name": "stdout",
     "output_type": "stream",
     "text": [
      "Training LightGBM...\n",
      "[LightGBM] [Info] Auto-choosing col-wise multi-threading, the overhead of testing was 0.001356 seconds.\n",
      "You can set `force_col_wise=true` to remove the overhead.\n",
      "[LightGBM] [Info] Total Bins 1888\n",
      "[LightGBM] [Info] Number of data points in the train set: 6369, number of used features: 149\n",
      "[LightGBM] [Info] Start training from score 163310.384048\n",
      "                           MSE           RMSE            MAE        R2\n",
      "ExtraTrees        1.249172e+10  111766.347187   49114.416529  0.643662\n",
      "CatBoost          1.363584e+10  116772.586727   56559.222097  0.611025\n",
      "RandomForest      1.433247e+10  119718.292647   55151.764984  0.591153\n",
      "LightGBM          1.518073e+10  123210.113594   59571.078308  0.566955\n",
      "GradientBoosting  1.523523e+10  123431.054434   64319.007669  0.565401\n",
      "KNeighbors        1.669191e+10  129197.175477   62823.422724  0.523847\n",
      "Ridge             1.782411e+10  133506.982596   73239.950052  0.491550\n",
      "Lasso             1.840541e+10  135666.540440   73944.781059  0.474968\n",
      "LinearRegression  1.844263e+10  135803.642767   74052.291161  0.473906\n",
      "MLP               1.845436e+10  135846.831344   78404.432730  0.473572\n",
      "ElasticNet        1.915532e+10  138402.760991   80138.651567  0.453576\n",
      "AdaBoost          1.969685e+10  140345.464968   88180.006749  0.438129\n",
      "XGBoost           2.079412e+10  144201.665011   67901.914062  0.406828\n",
      "DecisionTree      2.609980e+10  161554.334249   70082.174513  0.255478\n",
      "SVR               3.999216e+10  199980.410485  117889.880474 -0.140815\n"
     ]
    },
    {
     "name": "stderr",
     "output_type": "stream",
     "text": [
      "C:\\Users\\GED\\PycharmProjects\\Hands_on_ML\\.venv\\Lib\\site-packages\\sklearn\\utils\\validation.py:2749: UserWarning: X does not have valid feature names, but LGBMRegressor was fitted with feature names\n",
      "  warnings.warn(\n"
     ]
    }
   ],
   "execution_count": 13
  },
  {
   "metadata": {
    "ExecuteTime": {
     "end_time": "2025-07-09T00:53:56.704096Z",
     "start_time": "2025-07-09T00:53:56.686458Z"
    }
   },
   "cell_type": "code",
   "source": [
    "models = {\n",
    "    \"ExtraTrees\": ExtraTreesRegressor(random_state=42),\n",
    "    \"RandomForest\": RandomForestRegressor(random_state=42),\n",
    "    \"CatBoost\": CatBoostRegressor(verbose=0, random_state=42)\n",
    "}\n",
    "\n",
    "param_grids = {\n",
    "\n",
    "    \"ExtraTrees\": {\n",
    "        # 'pca__n_components': [5, 10, 15, 19],\n",
    "        'model__n_estimators': [100, 300, 500, 800],\n",
    "        'model__max_depth': [None, 10, 20, 30, 50],\n",
    "        'model__min_samples_split': [2, 5, 10],\n",
    "        'model__min_samples_leaf': [1, 2, 4],\n",
    "        'model__max_features': ['sqrt', 'log2', None]\n",
    "    },\n",
    "    \"RandomForest\": {\n",
    "        # 'pca__n_components': [5, 10, 15, 19],\n",
    "        'model__n_estimators': [100, 300, 500, 800],\n",
    "        'model__max_depth': [None, 10, 20, 30, 50],\n",
    "        'model__min_samples_split': [2, 5, 10],\n",
    "        'model__min_samples_leaf': [1, 2, 4],\n",
    "        'model__max_features': ['sqrt', 'log2', None]\n",
    "    },\n",
    "    \"CatBoost\": {\n",
    "        # 'pca__n_components': [5, 10, 15, 19],\n",
    "        'model__iterations': [500, 1000],\n",
    "        'model__depth': [4, 6, 8, 10],\n",
    "        'model__learning_rate': [0.01, 0.05, 0.1, 0.2],\n",
    "        'model__l2_leaf_reg': [1, 3, 5, 7, 9],\n",
    "        'model__bagging_temperature': [0, 0.5, 1]\n",
    "    }\n",
    "}\n"
   ],
   "id": "e5ec2793f0f7d18f",
   "outputs": [],
   "execution_count": 14
  },
  {
   "metadata": {
    "ExecuteTime": {
     "end_time": "2025-07-09T05:44:50.095156Z",
     "start_time": "2025-07-09T00:53:56.765895Z"
    }
   },
   "cell_type": "code",
   "source": [
    "from sklearn.decomposition import PCA\n",
    "from sklearn.model_selection import cross_val_score, GridSearchCV\n",
    "\n",
    "preds = {}\n",
    "\n",
    "pplines = {}\n",
    "for name, model in models.items():\n",
    "    print(f\"\\n GridSearch for {name}...\")\n",
    "\n",
    "    pipeline = Pipeline([\n",
    "        # ('pca', PCA()),\n",
    "        ('model', model)\n",
    "    ])\n",
    "\n",
    "    grid_search = GridSearchCV(\n",
    "        estimator=pipeline,\n",
    "        param_grid=param_grids[name],\n",
    "        cv=5,\n",
    "        scoring='neg_mean_squared_error',\n",
    "        verbose=2,\n",
    "        n_jobs=-1\n",
    "    )\n",
    "\n",
    "    grid_search.fit(X_train_transformed, y_train)\n",
    "\n",
    "    print(f\" Best params for {name}:\")\n",
    "    print(grid_search.best_params_)\n",
    "    print(f\" Best CV score (neg MSE): {-grid_search.best_score_:.4f}\")\n",
    "\n",
    "    best_pipeline = grid_search.best_estimator_\n",
    "\n",
    "    \n",
    "\n",
    "    y_pred = best_pipeline.predict(X_valid_transformed)\n",
    "\n",
    "    rmse = mean_squared_error(y_valid, y_pred)\n",
    "    r2 = r2_score(y_valid, y_pred)\n",
    "\n",
    "    preds[name] = y_pred\n",
    "    pplines[name] = best_pipeline"
   ],
   "id": "891e266e5babf3ef",
   "outputs": [
    {
     "name": "stdout",
     "output_type": "stream",
     "text": [
      "\n",
      " GridSearch for ExtraTrees...\n",
      "Fitting 5 folds for each of 540 candidates, totalling 2700 fits\n",
      " Best params for ExtraTrees:\n",
      "{'model__max_depth': 50, 'model__max_features': None, 'model__min_samples_leaf': 1, 'model__min_samples_split': 2, 'model__n_estimators': 500}\n",
      " Best CV score (neg MSE): 10482991312.9485\n"
     ]
    },
    {
     "name": "stderr",
     "output_type": "stream",
     "text": [
      "C:\\Users\\GED\\AppData\\Local\\Temp\\ipykernel_4636\\1945055870.py:40: RuntimeWarning: invalid value encountered in scalar power\n",
      "  print(f\" Final 5-fold CV R2: {(-cv_scores.mean()) ** 0.5:.4f} ± {cv_scores.std() ** 0.5:.4f}\")\n"
     ]
    },
    {
     "name": "stdout",
     "output_type": "stream",
     "text": [
      " Final 5-fold CV R2: nan ± 0.2014\n",
      "\n",
      " GridSearch for RandomForest...\n",
      "Fitting 5 folds for each of 540 candidates, totalling 2700 fits\n",
      " Best params for RandomForest:\n",
      "{'model__max_depth': 30, 'model__max_features': None, 'model__min_samples_leaf': 1, 'model__min_samples_split': 2, 'model__n_estimators': 300}\n",
      " Best CV score (neg MSE): 11491622800.2245\n"
     ]
    },
    {
     "name": "stderr",
     "output_type": "stream",
     "text": [
      "C:\\Users\\GED\\AppData\\Local\\Temp\\ipykernel_4636\\1945055870.py:40: RuntimeWarning: invalid value encountered in scalar power\n",
      "  print(f\" Final 5-fold CV R2: {(-cv_scores.mean()) ** 0.5:.4f} ± {cv_scores.std() ** 0.5:.4f}\")\n"
     ]
    },
    {
     "name": "stdout",
     "output_type": "stream",
     "text": [
      " Final 5-fold CV R2: nan ± 0.1817\n",
      "\n",
      " GridSearch for CatBoost...\n",
      "Fitting 5 folds for each of 480 candidates, totalling 2400 fits\n",
      " Best params for CatBoost:\n",
      "{'model__bagging_temperature': 0, 'model__depth': 10, 'model__iterations': 1000, 'model__l2_leaf_reg': 1, 'model__learning_rate': 0.05}\n",
      " Best CV score (neg MSE): 10515390488.1741\n",
      " Final 5-fold CV R2: nan ± 0.1700\n"
     ]
    },
    {
     "name": "stderr",
     "output_type": "stream",
     "text": [
      "C:\\Users\\GED\\AppData\\Local\\Temp\\ipykernel_4636\\1945055870.py:40: RuntimeWarning: invalid value encountered in scalar power\n",
      "  print(f\" Final 5-fold CV R2: {(-cv_scores.mean()) ** 0.5:.4f} ± {cv_scores.std() ** 0.5:.4f}\")\n"
     ]
    }
   ],
   "execution_count": 15
  },
  {
   "metadata": {
    "ExecuteTime": {
     "end_time": "2025-07-09T10:42:55.420179Z",
     "start_time": "2025-07-09T10:38:01.630795Z"
    }
   },
   "cell_type": "code",
   "source": [
    "for name, ppl in pplines.items():\n",
    "    cv_scores = cross_val_score(\n",
    "        ppl,\n",
    "        X_train_transformed,\n",
    "        y_train,\n",
    "        cv=5,\n",
    "        scoring='neg_mean_squared_error',\n",
    "        n_jobs=-1\n",
    "    )\n",
    "    print(f\"Final {name}_model 5-fold CV RMSE: {(-cv_scores.mean()) ** 0.5:.4f} ± {cv_scores.std() ** 0.5:.4f}\")\n"
   ],
   "id": "a267db805cf44e0c",
   "outputs": [
    {
     "name": "stdout",
     "output_type": "stream",
     "text": [
      "Final ExtraTrees_model 5-fold CV RMSE: 102386.4801 ± 45450.8830\n",
      "Final RandomForest_model 5-fold CV RMSE: 107198.9869 ± 38655.6503\n",
      "Final CatBoost_model 5-fold CV RMSE: 102544.5781 ± 40477.2928\n"
     ]
    }
   ],
   "execution_count": 18
  },
  {
   "metadata": {
    "ExecuteTime": {
     "end_time": "2025-07-09T10:44:57.817732Z",
     "start_time": "2025-07-09T10:44:57.811354Z"
    }
   },
   "cell_type": "code",
   "source": [
    "\n",
    "for name, y_pred in preds.items():\n",
    "    rmse = mean_squared_error(y_valid, y_pred)\n",
    "    rmse = np.sqrt(rmse)\n",
    "    mae = mean_absolute_error(y_valid, y_pred)\n",
    "    r2 = r2_score(y_valid, y_pred)\n",
    "\n",
    "    print(f\"{name} on Validation:\")\n",
    "    print(f\"RMSE: {rmse:.4f}\")\n",
    "    print(f\"MAE: {mae:.4f}\")\n",
    "    print(f\"R²:   {r2:.4f}\")\n",
    "    print()\n"
   ],
   "id": "8ff1e7461ee55603",
   "outputs": [
    {
     "name": "stdout",
     "output_type": "stream",
     "text": [
      "ExtraTrees on Validation:\n",
      "RMSE: 111685.0749\n",
      "MAE: 48932.1205\n",
      "R²:   0.6442\n",
      "\n",
      "RandomForest on Validation:\n",
      "RMSE: 119608.2546\n",
      "MAE: 54980.5737\n",
      "R²:   0.5919\n",
      "\n",
      "CatBoost on Validation:\n",
      "RMSE: 117166.9667\n",
      "MAE: 54010.2685\n",
      "R²:   0.6084\n",
      "\n"
     ]
    }
   ],
   "execution_count": 20
  }
 ],
 "metadata": {
  "kernelspec": {
   "display_name": "Python 3",
   "language": "python",
   "name": "python3"
  },
  "language_info": {
   "codemirror_mode": {
    "name": "ipython",
    "version": 2
   },
   "file_extension": ".py",
   "mimetype": "text/x-python",
   "name": "python",
   "nbconvert_exporter": "python",
   "pygments_lexer": "ipython2",
   "version": "2.7.6"
  }
 },
 "nbformat": 4,
 "nbformat_minor": 5
}
