{
 "cells": [
  {
   "metadata": {
    "ExecuteTime": {
     "end_time": "2025-07-08T18:49:39.532104Z",
     "start_time": "2025-07-08T18:49:39.299624Z"
    }
   },
   "cell_type": "code",
   "source": [
    "import numpy as np\n",
    "import pandas as pd"
   ],
   "id": "92bb4794cc58e136",
   "outputs": [],
   "execution_count": 1
  },
  {
   "metadata": {
    "ExecuteTime": {
     "end_time": "2025-07-08T18:49:39.635157Z",
     "start_time": "2025-07-08T18:49:39.607356Z"
    }
   },
   "cell_type": "code",
   "source": [
    "loaded_data = pd.read_csv('../data/topic21_v23_train.csv')\n",
    "\n",
    "loaded_data.info()"
   ],
   "id": "5f2802455ebe3515",
   "outputs": [
    {
     "name": "stdout",
     "output_type": "stream",
     "text": [
      "<class 'pandas.core.frame.DataFrame'>\n",
      "RangeIndex: 7962 entries, 0 to 7961\n",
      "Data columns (total 19 columns):\n",
      " #   Column              Non-Null Count  Dtype  \n",
      "---  ------              --------------  -----  \n",
      " 0   0                   7501 non-null   float64\n",
      " 1   1                   7472 non-null   float64\n",
      " 2   2                   7359 non-null   float64\n",
      " 3   3                   7556 non-null   float64\n",
      " 4   4                   7495 non-null   float64\n",
      " 5   brand               7962 non-null   object \n",
      " 6   model               7962 non-null   object \n",
      " 7   trim                7951 non-null   object \n",
      " 8   body_type           7962 non-null   object \n",
      " 9   fuel_type           7962 non-null   object \n",
      " 10  transmission_type   7962 non-null   object \n",
      " 11  engine_capacity_cc  6362 non-null   object \n",
      " 12  horsepower          7584 non-null   object \n",
      " 13  exterior_color      7962 non-null   object \n",
      " 14  interior_color      7962 non-null   object \n",
      " 15  warranty            7962 non-null   object \n",
      " 16  city                7962 non-null   object \n",
      " 17  seller_type         7962 non-null   object \n",
      " 18  price               7962 non-null   int64  \n",
      "dtypes: float64(5), int64(1), object(13)\n",
      "memory usage: 1.2+ MB\n"
     ]
    }
   ],
   "execution_count": 2
  },
  {
   "metadata": {
    "ExecuteTime": {
     "end_time": "2025-07-08T18:49:39.643023Z",
     "start_time": "2025-07-08T18:49:39.640001Z"
    }
   },
   "cell_type": "code",
   "source": [
    "def remove_outliers(df, threshold=3):\n",
    "    df_copy = df.copy()\n",
    "    numeric_cols = df.select_dtypes(include=['float64', 'int64']).columns\n",
    "    z_scores = np.abs((df[numeric_cols] - df[numeric_cols].mean()) / df[numeric_cols].std())\n",
    "    outliers = (z_scores > threshold).any(axis=1)\n",
    "\n",
    "    print(f\"Number of outliers removed: {outliers.sum()}\")\n",
    "\n",
    "    return df_copy[~outliers]\n"
   ],
   "id": "59ca03e299eaf657",
   "outputs": [],
   "execution_count": 3
  },
  {
   "metadata": {
    "ExecuteTime": {
     "end_time": "2025-07-08T18:49:39.721027Z",
     "start_time": "2025-07-08T18:49:39.662242Z"
    }
   },
   "cell_type": "code",
   "source": [
    "df = loaded_data.copy()\n",
    "\n",
    "def extract_range_mean(val):\n",
    "    try:\n",
    "        nums = [int(s) for s in val.replace('cc','').replace('HP','').split('-')]\n",
    "        return np.mean(nums)\n",
    "    except:\n",
    "        return np.nan\n",
    "\n",
    "df['engine_capacity'] = df['engine_capacity_cc'].apply(extract_range_mean)\n",
    "df['horsepower_val'] = df['horsepower'].apply(extract_range_mean)\n",
    "\n",
    "df.drop(columns=['engine_capacity_cc', 'horsepower'], inplace=True)\n",
    "\n",
    "df['is_automatic'] = (df['transmission_type'] == 'Automatic Transmission').astype(int)\n",
    "df = df.drop('transmission_type', axis=1)\n",
    "\n",
    "df['seller_is_owner'] = (df['seller_type'] == 'Owner').astype(int)\n",
    "df['seller_is_dealer'] = (df['seller_type'] == 'Dealer').astype(int)\n",
    "df['seller_is_cpo']   = (df['seller_type'] == 'Dealership/Certified Pre-Owned').astype(int)\n",
    "df = df.drop('seller_type', axis=1)\n",
    "\n",
    "\n",
    "df.info()"
   ],
   "id": "e879ff133df839f7",
   "outputs": [
    {
     "name": "stdout",
     "output_type": "stream",
     "text": [
      "<class 'pandas.core.frame.DataFrame'>\n",
      "RangeIndex: 7962 entries, 0 to 7961\n",
      "Data columns (total 21 columns):\n",
      " #   Column            Non-Null Count  Dtype  \n",
      "---  ------            --------------  -----  \n",
      " 0   0                 7501 non-null   float64\n",
      " 1   1                 7472 non-null   float64\n",
      " 2   2                 7359 non-null   float64\n",
      " 3   3                 7556 non-null   float64\n",
      " 4   4                 7495 non-null   float64\n",
      " 5   brand             7962 non-null   object \n",
      " 6   model             7962 non-null   object \n",
      " 7   trim              7951 non-null   object \n",
      " 8   body_type         7962 non-null   object \n",
      " 9   fuel_type         7962 non-null   object \n",
      " 10  exterior_color    7962 non-null   object \n",
      " 11  interior_color    7962 non-null   object \n",
      " 12  warranty          7962 non-null   object \n",
      " 13  city              7962 non-null   object \n",
      " 14  price             7962 non-null   int64  \n",
      " 15  engine_capacity   4530 non-null   float64\n",
      " 16  horsepower_val    7021 non-null   float64\n",
      " 17  is_automatic      7962 non-null   int64  \n",
      " 18  seller_is_owner   7962 non-null   int64  \n",
      " 19  seller_is_dealer  7962 non-null   int64  \n",
      " 20  seller_is_cpo     7962 non-null   int64  \n",
      "dtypes: float64(7), int64(5), object(9)\n",
      "memory usage: 1.3+ MB\n"
     ]
    }
   ],
   "execution_count": 4
  },
  {
   "metadata": {
    "ExecuteTime": {
     "end_time": "2025-07-08T18:49:40.236167Z",
     "start_time": "2025-07-08T18:49:39.737738Z"
    }
   },
   "cell_type": "code",
   "source": [
    "from sklearn.model_selection import train_test_split\n",
    "\n",
    "\n",
    "train_set , valid_set = train_test_split(df, test_size=0.2, random_state=42)\n",
    "\n",
    "# train_set = remove_outliers(train_set)\n",
    "\n",
    "\n",
    "for col in ['brand', 'model', 'trim']:\n",
    "    means = train_set.groupby(col)['price'].mean()\n",
    "    train_set[col + '_enc'] = train_set[col].map(means)\n",
    "    valid_set[col + '_enc'] = valid_set[col].map(means)\n",
    "\n",
    "train_set.drop(columns=['brand', 'model', 'trim'], inplace=True)\n",
    "valid_set.drop(columns=['brand', 'model', 'trim'], inplace=True)\n"
   ],
   "id": "fe56e2145533f839",
   "outputs": [],
   "execution_count": 5
  },
  {
   "metadata": {
    "ExecuteTime": {
     "end_time": "2025-07-08T18:49:40.257801Z",
     "start_time": "2025-07-08T18:49:40.252798Z"
    }
   },
   "cell_type": "code",
   "source": [
    "X_train = train_set.drop(columns=['price'])\n",
    "y_train = train_set['price']\n",
    "\n",
    "# y_train = np.log1p(y_train)\n",
    "\n",
    "X_valid = valid_set.drop(columns=['price'])\n",
    "y_valid = valid_set['price']"
   ],
   "id": "35137a511f84dc73",
   "outputs": [],
   "execution_count": 6
  },
  {
   "metadata": {
    "ExecuteTime": {
     "end_time": "2025-07-08T18:49:40.281221Z",
     "start_time": "2025-07-08T18:49:40.277208Z"
    }
   },
   "cell_type": "code",
   "source": [
    "numerical_features = X_train.select_dtypes(include=['int64', 'float64']).columns.tolist()\n",
    "categorical_features = X_train.select_dtypes(include=['object']).columns.tolist()\n",
    "\n",
    "print(\"Numerical features:\", numerical_features)\n",
    "print(\"Categorical features:\", categorical_features)"
   ],
   "id": "7bcd2b2b1469d9ee",
   "outputs": [
    {
     "name": "stdout",
     "output_type": "stream",
     "text": [
      "Numerical features: ['0', '1', '2', '3', '4', 'engine_capacity', 'horsepower_val', 'is_automatic', 'seller_is_owner', 'seller_is_dealer', 'seller_is_cpo', 'brand_enc', 'model_enc', 'trim_enc']\n",
      "Categorical features: ['body_type', 'fuel_type', 'exterior_color', 'interior_color', 'warranty', 'city']\n"
     ]
    }
   ],
   "execution_count": 7
  },
  {
   "metadata": {
    "ExecuteTime": {
     "end_time": "2025-07-08T18:49:40.387118Z",
     "start_time": "2025-07-08T18:49:40.302473Z"
    }
   },
   "cell_type": "code",
   "source": [
    "from sklearn.impute import SimpleImputer\n",
    "from sklearn.pipeline import Pipeline\n",
    "from sklearn.preprocessing import StandardScaler, OneHotEncoder\n",
    "from sklearn.compose import ColumnTransformer\n",
    "\n",
    "numeric_transformer = Pipeline(steps=[\n",
    "    ('imputer', SimpleImputer(strategy='mean')),\n",
    "    ('scaler', StandardScaler())\n",
    "])\n",
    "\n",
    "categorical_transformer = Pipeline(steps=[\n",
    "    ('imputer', SimpleImputer(strategy='most_frequent')),\n",
    "    ('onehot', OneHotEncoder(handle_unknown='ignore'))\n",
    "])\n",
    "\n",
    "preprocessor = ColumnTransformer(\n",
    "    transformers=[\n",
    "        ('num', numeric_transformer, numerical_features),\n",
    "        ('cat', categorical_transformer, categorical_features)\n",
    "    ])\n",
    "\n",
    "pipeline = Pipeline([\n",
    "    ('preprocessor', preprocessor)\n",
    "])\n",
    "\n",
    "X_train_transformed = pipeline.fit_transform(X_train)\n",
    "X_valid_transformed = pipeline.transform(X_valid)\n"
   ],
   "id": "339505afc427250c",
   "outputs": [],
   "execution_count": 8
  },
  {
   "metadata": {
    "ExecuteTime": {
     "end_time": "2025-07-08T18:49:40.609728Z",
     "start_time": "2025-07-08T18:49:40.453596Z"
    }
   },
   "cell_type": "code",
   "source": [
    "from sklearn.linear_model import LinearRegression, Ridge, Lasso, ElasticNet\n",
    "from sklearn.ensemble import RandomForestRegressor, GradientBoostingRegressor, AdaBoostRegressor, ExtraTreesRegressor\n",
    "from sklearn.tree import DecisionTreeRegressor\n",
    "from sklearn.svm import SVR\n",
    "from sklearn.neighbors import KNeighborsRegressor\n",
    "from sklearn.neural_network import MLPRegressor\n",
    "from xgboost import XGBRegressor\n",
    "from lightgbm import LGBMRegressor\n",
    "from catboost import CatBoostRegressor\n",
    "\n",
    "models = {\n",
    "    \"SVR\": SVR(),\n",
    "    \"RandomForest\": RandomForestRegressor(random_state=42),\n",
    "    \"ExtraTrees\": ExtraTreesRegressor(random_state=42),\n",
    "    \"XGBoost\": XGBRegressor(verbosity=0, random_state=42),\n",
    "    \"CatBoost\": CatBoostRegressor(verbose=0, random_state=42),\n",
    "\n",
    "    \"LinearRegression\": LinearRegression(),\n",
    "    \"Ridge\": Ridge(),\n",
    "    \"Lasso\": Lasso(),\n",
    "    \"ElasticNet\": ElasticNet(),\n",
    "    \"DecisionTree\": DecisionTreeRegressor(random_state=42),\n",
    "\n",
    "    \"GradientBoosting\": GradientBoostingRegressor(),\n",
    "    \"AdaBoost\": AdaBoostRegressor(),\n",
    "    \"KNeighbors\": KNeighborsRegressor(),\n",
    "    \"MLP\": MLPRegressor(max_iter=1000),\n",
    "    \"LightGBM\": LGBMRegressor()\n",
    "}\n"
   ],
   "id": "2bc794430e6eea62",
   "outputs": [],
   "execution_count": 9
  },
  {
   "metadata": {
    "ExecuteTime": {
     "end_time": "2025-07-08T18:49:40.651376Z",
     "start_time": "2025-07-08T18:49:40.647969Z"
    }
   },
   "cell_type": "code",
   "source": [
    "from sklearn.metrics import mean_squared_error, mean_absolute_error, r2_score\n",
    "import numpy as np\n",
    "\n",
    "\n",
    "def train_and_evaluate(models, X_train, y_train, X_valid, y_valid):\n",
    "    results = {}\n",
    "\n",
    "    for name, model in models.items():\n",
    "        print(f\"Training {name}...\")\n",
    "        model.fit(X_train, y_train)\n",
    "        predictions = model.predict(X_valid)\n",
    "\n",
    "        # predictions = np.expm1(predictions)\n",
    "\n",
    "        mse = mean_squared_error(y_valid, predictions)\n",
    "        rmse = np.sqrt(mse)\n",
    "        mae = mean_absolute_error(y_valid, predictions)\n",
    "        r2 = r2_score(y_valid, predictions)\n",
    "\n",
    "        results[name] = {\n",
    "            \"MSE\": mse,\n",
    "            \"RMSE\": rmse,\n",
    "            \"MAE\": mae,\n",
    "            \"R2\": r2\n",
    "        }\n",
    "    return results\n"
   ],
   "id": "70af277e7d73e59a",
   "outputs": [],
   "execution_count": 10
  },
  {
   "metadata": {
    "ExecuteTime": {
     "end_time": "2025-07-08T18:50:55.207780Z",
     "start_time": "2025-07-08T18:49:40.687723Z"
    }
   },
   "cell_type": "code",
   "source": [
    "results = train_and_evaluate(models, X_train_transformed, y_train, X_valid_transformed, y_valid)\n",
    "results_df = pd.DataFrame(results).T.sort_values(by=\"RMSE\")\n",
    "print(results_df)\n",
    "\n",
    "#                            MSE           RMSE            MAE        R2\n",
    "# ExtraTrees        1.364939e+10  116830.603202   51545.506937  0.610638\n",
    "# RandomForest      1.491750e+10  122137.233932   56506.986981  0.574464\n",
    "# CatBoost          1.534907e+10  123891.356300   57695.248654  0.562153\n",
    "# GradientBoosting  1.615095e+10  127086.385441   64424.381045  0.539279\n",
    "# LightGBM          1.621853e+10  127351.995346   60649.685189  0.537351\n",
    "# KNeighbors        1.710397e+10  130782.150957   64333.041055  0.512093\n",
    "# Ridge             1.799964e+10  134162.731629   78556.794589  0.486543\n",
    "# Lasso             1.800913e+10  134198.082115   78576.971162  0.486272\n",
    "# LinearRegression  1.801033e+10  134202.585130   78580.566612  0.486238\n",
    "# MLP               1.818794e+10  134862.688100   77399.885267  0.481171\n",
    "# ElasticNet        1.862588e+10  136476.662202   78301.486216  0.468679\n",
    "# AdaBoost          2.005669e+10  141621.658385   85959.299705  0.427864\n",
    "# XGBoost           2.186608e+10  147871.837265   70018.210938  0.376249\n",
    "# DecisionTree      2.844289e+10  168650.214328   76305.634652  0.188639\n",
    "# SVR               3.998152e+10  199953.784643  117847.498633 -0.140511\n",
    "\n"
   ],
   "id": "2f624a08d465db88",
   "outputs": [
    {
     "name": "stdout",
     "output_type": "stream",
     "text": [
      "Training SVR...\n",
      "Training RandomForest...\n",
      "Training ExtraTrees...\n",
      "Training XGBoost...\n",
      "Training CatBoost...\n",
      "Training LinearRegression...\n",
      "Training Ridge...\n",
      "Training Lasso...\n"
     ]
    },
    {
     "name": "stderr",
     "output_type": "stream",
     "text": [
      "C:\\Users\\GED\\PycharmProjects\\Hands_on_ML\\.venv\\Lib\\site-packages\\sklearn\\linear_model\\_coordinate_descent.py:656: ConvergenceWarning: Objective did not converge. You might want to increase the number of iterations, check the scale of the features or consider increasing regularisation. Duality gap: 4.053e+12, tolerance: 2.267e+10\n",
      "  model = cd_fast.sparse_enet_coordinate_descent(\n"
     ]
    },
    {
     "name": "stdout",
     "output_type": "stream",
     "text": [
      "Training ElasticNet...\n",
      "Training DecisionTree...\n",
      "Training GradientBoosting...\n",
      "Training AdaBoost...\n",
      "Training KNeighbors...\n",
      "Training MLP...\n"
     ]
    },
    {
     "name": "stderr",
     "output_type": "stream",
     "text": [
      "C:\\Users\\GED\\PycharmProjects\\Hands_on_ML\\.venv\\Lib\\site-packages\\sklearn\\neural_network\\_multilayer_perceptron.py:780: ConvergenceWarning: Stochastic Optimizer: Maximum iterations (1000) reached and the optimization hasn't converged yet.\n",
      "  warnings.warn(\n"
     ]
    },
    {
     "name": "stdout",
     "output_type": "stream",
     "text": [
      "Training LightGBM...\n",
      "[LightGBM] [Info] Auto-choosing col-wise multi-threading, the overhead of testing was 0.001147 seconds.\n",
      "You can set `force_col_wise=true` to remove the overhead.\n",
      "[LightGBM] [Info] Total Bins 1966\n",
      "[LightGBM] [Info] Number of data points in the train set: 6369, number of used features: 60\n",
      "[LightGBM] [Info] Start training from score 163310.384048\n",
      "                           MSE           RMSE            MAE        R2\n",
      "ExtraTrees        1.364939e+10  116830.603202   51545.506937  0.610638\n",
      "RandomForest      1.491750e+10  122137.233932   56506.986981  0.574464\n",
      "CatBoost          1.534907e+10  123891.356300   57695.248654  0.562153\n",
      "GradientBoosting  1.614723e+10  127071.760763   64433.437327  0.539385\n",
      "LightGBM          1.621853e+10  127351.995346   60649.685189  0.537351\n",
      "KNeighbors        1.710397e+10  130782.150957   64333.041055  0.512093\n",
      "Ridge             1.799964e+10  134162.731629   78556.794589  0.486543\n",
      "Lasso             1.800913e+10  134198.082115   78576.971162  0.486272\n",
      "LinearRegression  1.801033e+10  134202.585130   78580.566612  0.486238\n",
      "MLP               1.815023e+10  134722.788504   77362.563112  0.482247\n",
      "ElasticNet        1.862588e+10  136476.662202   78301.486216  0.468679\n",
      "AdaBoost          2.005026e+10  141598.954389   88392.242528  0.428047\n",
      "XGBoost           2.186608e+10  147871.837265   70018.210938  0.376249\n",
      "DecisionTree      2.844289e+10  168650.214328   76305.634652  0.188639\n",
      "SVR               3.998152e+10  199953.784643  117847.498633 -0.140511\n"
     ]
    },
    {
     "name": "stderr",
     "output_type": "stream",
     "text": [
      "C:\\Users\\GED\\PycharmProjects\\Hands_on_ML\\.venv\\Lib\\site-packages\\sklearn\\utils\\validation.py:2749: UserWarning: X does not have valid feature names, but LGBMRegressor was fitted with feature names\n",
      "  warnings.warn(\n"
     ]
    }
   ],
   "execution_count": 11
  },
  {
   "metadata": {
    "ExecuteTime": {
     "end_time": "2025-07-08T18:52:25.859929Z",
     "start_time": "2025-07-08T18:52:25.856022Z"
    }
   },
   "cell_type": "code",
   "source": [
    "models = {\n",
    "    # \"RandomForest\": RandomForestRegressor(random_state=42),\n",
    "    \"ExtraTrees\": ExtraTreesRegressor(random_state=42),\n",
    "    # \"CatBoost\": CatBoostRegressor(verbose=0, random_state=42)\n",
    "}\n",
    "\n",
    "param_grids = {\n",
    "    # \"RandomForest\": {\n",
    "    #     'pca__n_components': [5, 10, 15, 19],\n",
    "    #     'model__n_estimators': [100, 300, 500, 800],\n",
    "    #     'model__max_depth': [None, 10, 20, 30, 50],\n",
    "    #     'model__min_samples_split': [2, 5, 10],\n",
    "    #     'model__min_samples_leaf': [1, 2, 4],\n",
    "    #     'model__max_features': ['sqrt', 'log2', None]\n",
    "    # },\n",
    "    \"ExtraTrees\": {\n",
    "        'pca__n_components': [5, 10, 15, 19],\n",
    "        'model__n_estimators': [100, 300, 500, 800],\n",
    "        'model__max_depth': [None, 10, 20, 30, 50],\n",
    "        'model__min_samples_split': [2, 5, 10],\n",
    "        'model__min_samples_leaf': [1, 2, 4],\n",
    "        'model__max_features': ['sqrt', 'log2', None]\n",
    "    },\n",
    "    # \"CatBoost\": {\n",
    "    #     'pca__n_components': [5, 10, 15, 19],\n",
    "    #     'model__iterations': [500, 1000],\n",
    "    #     'model__depth': [4, 6, 8, 10],\n",
    "    #     'model__learning_rate': [0.01, 0.05, 0.1, 0.2],\n",
    "    #     'model__l2_leaf_reg': [1, 3, 5, 7, 9],\n",
    "    #     'model__bagging_temperature': [0, 0.5, 1]\n",
    "    # }\n",
    "}\n"
   ],
   "id": "e5ec2793f0f7d18f",
   "outputs": [],
   "execution_count": 16
  },
  {
   "metadata": {
    "ExecuteTime": {
     "end_time": "2025-07-08T19:23:50.456184Z",
     "start_time": "2025-07-08T18:52:26.385410Z"
    }
   },
   "cell_type": "code",
   "source": [
    "from sklearn.decomposition import PCA\n",
    "from sklearn.model_selection import cross_val_score, GridSearchCV\n",
    "\n",
    "preds = {}\n",
    "\n",
    "pplines = {}\n",
    "for name, model in models.items():\n",
    "    print(f\"\\n GridSearch for {name}...\")\n",
    "\n",
    "    pipeline = Pipeline([\n",
    "        ('pca', PCA()),\n",
    "        ('model', model)\n",
    "    ])\n",
    "\n",
    "    grid_search = GridSearchCV(\n",
    "        estimator=pipeline,\n",
    "        param_grid=param_grids[name],\n",
    "        cv=5,\n",
    "        scoring='neg_mean_squared_error',\n",
    "        verbose=2,\n",
    "        n_jobs=-1\n",
    "    )\n",
    "\n",
    "    grid_search.fit(X_train_transformed, y_train)\n",
    "\n",
    "    print(f\" Best params for {name}:\")\n",
    "    print(grid_search.best_params_)\n",
    "    print(f\" Best CV score (neg MSE): {-grid_search.best_score_:.4f}\")\n",
    "\n",
    "    best_pipeline = grid_search.best_estimator_\n",
    "\n",
    "    cv_scores = cross_val_score(\n",
    "        best_pipeline,\n",
    "        X_train_transformed,\n",
    "        y_train,\n",
    "        cv=5,\n",
    "        scoring='neg_mean_squared_error',\n",
    "        n_jobs=-1\n",
    "    )\n",
    "    print(f\" Final 5-fold CV RMSE (log scale): {(-cv_scores.mean()) ** 0.5:.4f} ± {cv_scores.std() ** 0.5:.4f}\")\n",
    "\n",
    "    y_pred = best_pipeline.predict(X_valid_transformed)\n",
    "\n",
    "    rmse = mean_squared_error(y_valid, y_pred)\n",
    "    r2 = r2_score(y_valid, y_pred)\n",
    "\n",
    "    preds[name] = y_pred\n",
    "    pplines[name] = best_pipeline"
   ],
   "id": "891e266e5babf3ef",
   "outputs": [
    {
     "name": "stdout",
     "output_type": "stream",
     "text": [
      "\n",
      " GridSearch for ExtraTrees...\n",
      "Fitting 5 folds for each of 2160 candidates, totalling 10800 fits\n",
      " Best params for ExtraTrees:\n",
      "{'model__max_depth': 30, 'model__max_features': None, 'model__min_samples_leaf': 1, 'model__min_samples_split': 2, 'model__n_estimators': 800, 'pca__n_components': 19}\n",
      " Best CV score (neg MSE): 10710625775.7481\n",
      " Final 5-fold CV RMSE (log scale): 103492.1532 ± 38052.0522\n",
      "ExtraTrees on Validation:\n",
      "RMSE: 13985265222.6773\n",
      "R²:   0.6011\n",
      "\n"
     ]
    }
   ],
   "execution_count": 17
  },
  {
   "metadata": {
    "ExecuteTime": {
     "end_time": "2025-07-08T19:24:36.032998Z",
     "start_time": "2025-07-08T19:24:36.029598Z"
    }
   },
   "cell_type": "code",
   "source": [
    "\n",
    "for name, y_pred in preds.items():\n",
    "    rmse = mean_squared_error(y_valid, y_pred)\n",
    "    r2 = r2_score(y_valid, y_pred)\n",
    "\n",
    "    print(f\"{name} on Validation:\")\n",
    "    print(f\"RMSE: {rmse:.4f}\")\n",
    "    print(f\"R²:   {r2:.4f}\")\n",
    "    print()\n"
   ],
   "id": "8ff1e7461ee55603",
   "outputs": [
    {
     "name": "stdout",
     "output_type": "stream",
     "text": [
      "ExtraTrees on Validation:\n",
      "RMSE: 13985265222.6773\n",
      "R²:   0.6011\n",
      "\n"
     ]
    }
   ],
   "execution_count": 18
  }
 ],
 "metadata": {
  "kernelspec": {
   "display_name": "Python 3",
   "language": "python",
   "name": "python3"
  },
  "language_info": {
   "codemirror_mode": {
    "name": "ipython",
    "version": 2
   },
   "file_extension": ".py",
   "mimetype": "text/x-python",
   "name": "python",
   "nbconvert_exporter": "python",
   "pygments_lexer": "ipython2",
   "version": "2.7.6"
  }
 },
 "nbformat": 4,
 "nbformat_minor": 5
}
