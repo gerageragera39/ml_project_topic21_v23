{
 "cells": [
  {
   "metadata": {
    "ExecuteTime": {
     "end_time": "2025-07-08T20:32:38.857800Z",
     "start_time": "2025-07-08T20:32:38.855105Z"
    }
   },
   "cell_type": "code",
   "source": [
    "import numpy as np\n",
    "import pandas as pd"
   ],
   "id": "92bb4794cc58e136",
   "outputs": [],
   "execution_count": 40
  },
  {
   "metadata": {
    "ExecuteTime": {
     "end_time": "2025-07-08T20:32:38.910817Z",
     "start_time": "2025-07-08T20:32:38.890384Z"
    }
   },
   "cell_type": "code",
   "source": [
    "loaded_data = pd.read_csv('../data/topic21_v23_train.csv')\n",
    "\n",
    "loaded_data.info()"
   ],
   "id": "5f2802455ebe3515",
   "outputs": [
    {
     "name": "stdout",
     "output_type": "stream",
     "text": [
      "<class 'pandas.core.frame.DataFrame'>\n",
      "RangeIndex: 7962 entries, 0 to 7961\n",
      "Data columns (total 19 columns):\n",
      " #   Column              Non-Null Count  Dtype  \n",
      "---  ------              --------------  -----  \n",
      " 0   0                   7501 non-null   float64\n",
      " 1   1                   7472 non-null   float64\n",
      " 2   2                   7359 non-null   float64\n",
      " 3   3                   7556 non-null   float64\n",
      " 4   4                   7495 non-null   float64\n",
      " 5   brand               7962 non-null   object \n",
      " 6   model               7962 non-null   object \n",
      " 7   trim                7951 non-null   object \n",
      " 8   body_type           7962 non-null   object \n",
      " 9   fuel_type           7962 non-null   object \n",
      " 10  transmission_type   7962 non-null   object \n",
      " 11  engine_capacity_cc  6362 non-null   object \n",
      " 12  horsepower          7584 non-null   object \n",
      " 13  exterior_color      7962 non-null   object \n",
      " 14  interior_color      7962 non-null   object \n",
      " 15  warranty            7962 non-null   object \n",
      " 16  city                7962 non-null   object \n",
      " 17  seller_type         7962 non-null   object \n",
      " 18  price               7962 non-null   int64  \n",
      "dtypes: float64(5), int64(1), object(13)\n",
      "memory usage: 1.2+ MB\n"
     ]
    }
   ],
   "execution_count": 41
  },
  {
   "metadata": {
    "ExecuteTime": {
     "end_time": "2025-07-08T20:32:38.949906Z",
     "start_time": "2025-07-08T20:32:38.946471Z"
    }
   },
   "cell_type": "code",
   "source": [
    "def remove_outliers(df, threshold=3):\n",
    "    df_copy = df.copy()\n",
    "    numeric_cols = df.select_dtypes(include=['float64', 'int64']).columns\n",
    "    z_scores = np.abs((df[numeric_cols] - df[numeric_cols].mean()) / df[numeric_cols].std())\n",
    "    outliers = (z_scores > threshold).any(axis=1)\n",
    "\n",
    "    print(f\"Number of outliers removed: {outliers.sum()}\")\n",
    "\n",
    "    return df_copy[~outliers]\n"
   ],
   "id": "59ca03e299eaf657",
   "outputs": [],
   "execution_count": 42
  },
  {
   "metadata": {
    "ExecuteTime": {
     "end_time": "2025-07-08T20:32:38.985523Z",
     "start_time": "2025-07-08T20:32:38.958379Z"
    }
   },
   "cell_type": "code",
   "source": [
    "df = loaded_data.copy()\n",
    "\n",
    "\n",
    "def parse_mid(r):\n",
    "        if pd.isna(r) or r=='Unknown': return np.nan\n",
    "        s = ''.join(c for c in r if c.isdigit() or c=='-')\n",
    "        if '-' in s:\n",
    "            lo, hi = map(int, s.split('-'))\n",
    "            return (lo+hi)/2\n",
    "        return float(s)\n",
    "for col in ['engine_capacity_cc','horsepower']:\n",
    "    df[col+'_num'] = df[col].apply(parse_mid)\n",
    "    df[col+'_miss'] = df[col+'_num'].isna().astype(int)\n",
    "    df[col+'_num'] = df[col+'_num'].fillna(df[col+'_num'].median())\n",
    "    df.drop(columns=[col], inplace=True)\n",
    "\n",
    "df['is_automatic'] = (df['transmission_type'] == 'Automatic Transmission').astype(int)\n",
    "df = df.drop('transmission_type', axis=1)\n",
    "\n",
    "# df['seller_is_owner'] = (df['seller_type'] == 'Owner').astype(int)\n",
    "# df['seller_is_dealer'] = (df['seller_type'] == 'Dealer').astype(int)\n",
    "# df['seller_is_cpo']   = (df['seller_type'] == 'Dealership/Certified Pre-Owned').astype(int)\n",
    "# df = df.drop('seller_type', axis=1)\n",
    "\n",
    "df['hp_per_cc'] = df['horsepower_num'] / df['engine_capacity_cc_num']\n",
    "\n",
    "\n",
    "df.info()"
   ],
   "id": "e879ff133df839f7",
   "outputs": [
    {
     "name": "stdout",
     "output_type": "stream",
     "text": [
      "<class 'pandas.core.frame.DataFrame'>\n",
      "RangeIndex: 7962 entries, 0 to 7961\n",
      "Data columns (total 22 columns):\n",
      " #   Column                   Non-Null Count  Dtype  \n",
      "---  ------                   --------------  -----  \n",
      " 0   0                        7501 non-null   float64\n",
      " 1   1                        7472 non-null   float64\n",
      " 2   2                        7359 non-null   float64\n",
      " 3   3                        7556 non-null   float64\n",
      " 4   4                        7495 non-null   float64\n",
      " 5   brand                    7962 non-null   object \n",
      " 6   model                    7962 non-null   object \n",
      " 7   trim                     7951 non-null   object \n",
      " 8   body_type                7962 non-null   object \n",
      " 9   fuel_type                7962 non-null   object \n",
      " 10  exterior_color           7962 non-null   object \n",
      " 11  interior_color           7962 non-null   object \n",
      " 12  warranty                 7962 non-null   object \n",
      " 13  city                     7962 non-null   object \n",
      " 14  seller_type              7962 non-null   object \n",
      " 15  price                    7962 non-null   int64  \n",
      " 16  engine_capacity_cc_num   7962 non-null   float64\n",
      " 17  engine_capacity_cc_miss  7962 non-null   int64  \n",
      " 18  horsepower_num           7962 non-null   float64\n",
      " 19  horsepower_miss          7962 non-null   int64  \n",
      " 20  is_automatic             7962 non-null   int64  \n",
      " 21  hp_per_cc                7962 non-null   float64\n",
      "dtypes: float64(8), int64(4), object(10)\n",
      "memory usage: 1.3+ MB\n"
     ]
    }
   ],
   "execution_count": 43
  },
  {
   "metadata": {
    "ExecuteTime": {
     "end_time": "2025-07-08T20:32:39.023955Z",
     "start_time": "2025-07-08T20:32:39.016546Z"
    }
   },
   "cell_type": "code",
   "source": [
    "from sklearn.model_selection import train_test_split\n",
    "\n",
    "\n",
    "train_set , valid_set = train_test_split(df, test_size=0.2, random_state=42)\n",
    "\n",
    "# train_set = remove_outliers(train_set)\n",
    "\n",
    "\n",
    "for col in ['model']:\n",
    "    means = train_set.groupby(col)['price'].mean()\n",
    "    train_set[col + '_enc'] = train_set[col].map(means)\n",
    "    valid_set[col + '_enc'] = valid_set[col].map(means)\n",
    "\n",
    "train_set.drop(columns=['model'], inplace=True)\n",
    "valid_set.drop(columns=['model'], inplace=True)\n"
   ],
   "id": "fe56e2145533f839",
   "outputs": [],
   "execution_count": 44
  },
  {
   "metadata": {
    "ExecuteTime": {
     "end_time": "2025-07-08T20:32:39.085841Z",
     "start_time": "2025-07-08T20:32:39.081562Z"
    }
   },
   "cell_type": "code",
   "source": [
    "X_train = train_set.drop(columns=['price'])\n",
    "y_train = train_set['price']\n",
    "\n",
    "# y_train = np.log1p(y_train)\n",
    "\n",
    "X_valid = valid_set.drop(columns=['price'])\n",
    "y_valid = valid_set['price']"
   ],
   "id": "35137a511f84dc73",
   "outputs": [],
   "execution_count": 45
  },
  {
   "metadata": {
    "ExecuteTime": {
     "end_time": "2025-07-08T20:32:39.122922Z",
     "start_time": "2025-07-08T20:32:39.119341Z"
    }
   },
   "cell_type": "code",
   "source": [
    "numerical_features = X_train.select_dtypes(include=['int64', 'float64']).columns.tolist()\n",
    "categorical_features = X_train.select_dtypes(include=['object']).columns.tolist()\n",
    "\n",
    "print(\"Numerical features:\", numerical_features)\n",
    "print(\"Categorical features:\", categorical_features)"
   ],
   "id": "7bcd2b2b1469d9ee",
   "outputs": [
    {
     "name": "stdout",
     "output_type": "stream",
     "text": [
      "Numerical features: ['0', '1', '2', '3', '4', 'engine_capacity_cc_num', 'engine_capacity_cc_miss', 'horsepower_num', 'horsepower_miss', 'is_automatic', 'hp_per_cc', 'model_enc']\n",
      "Categorical features: ['brand', 'trim', 'body_type', 'fuel_type', 'exterior_color', 'interior_color', 'warranty', 'city', 'seller_type']\n"
     ]
    }
   ],
   "execution_count": 46
  },
  {
   "metadata": {
    "ExecuteTime": {
     "end_time": "2025-07-08T20:32:39.164069Z",
     "start_time": "2025-07-08T20:32:39.158192Z"
    }
   },
   "cell_type": "code",
   "source": [
    "correlation = train_set[numerical_features + ['price']].corr()\n",
    "\n",
    "print(correlation['price'].sort_values(ascending=False))"
   ],
   "id": "409ee45ab55d3868",
   "outputs": [
    {
     "name": "stdout",
     "output_type": "stream",
     "text": [
      "price                      1.000000\n",
      "model_enc                  0.695101\n",
      "horsepower_num             0.409238\n",
      "0                          0.273631\n",
      "engine_capacity_cc_num     0.257073\n",
      "engine_capacity_cc_miss    0.175946\n",
      "hp_per_cc                  0.134919\n",
      "1                          0.019409\n",
      "is_automatic               0.003505\n",
      "horsepower_miss           -0.046558\n",
      "4                         -0.131088\n",
      "3                         -0.242796\n",
      "2                         -0.311485\n",
      "Name: price, dtype: float64\n"
     ]
    }
   ],
   "execution_count": 47
  },
  {
   "metadata": {
    "ExecuteTime": {
     "end_time": "2025-07-08T20:32:39.198251Z",
     "start_time": "2025-07-08T20:32:39.173513Z"
    }
   },
   "cell_type": "code",
   "source": [
    "from sklearn.impute import SimpleImputer\n",
    "from sklearn.pipeline import Pipeline\n",
    "from sklearn.preprocessing import StandardScaler, OneHotEncoder\n",
    "from sklearn.compose import ColumnTransformer\n",
    "\n",
    "numeric_transformer = Pipeline(steps=[\n",
    "    ('imputer', SimpleImputer(strategy='mean')),\n",
    "    ('scaler', StandardScaler())\n",
    "])\n",
    "\n",
    "categorical_transformer = Pipeline(steps=[\n",
    "    ('imputer', SimpleImputer(strategy='most_frequent')),\n",
    "    ('onehot', OneHotEncoder(handle_unknown='ignore'))\n",
    "])\n",
    "\n",
    "preprocessor = ColumnTransformer(\n",
    "    transformers=[\n",
    "        ('num', numeric_transformer, numerical_features),\n",
    "        ('cat', categorical_transformer, categorical_features)\n",
    "    ])\n",
    "\n",
    "pipeline = Pipeline([\n",
    "    ('preprocessor', preprocessor)\n",
    "])\n",
    "\n",
    "\n",
    "X_train_transformed = pipeline.fit_transform(X_train)\n",
    "X_valid_transformed = pipeline.transform(X_valid)\n"
   ],
   "id": "339505afc427250c",
   "outputs": [],
   "execution_count": 48
  },
  {
   "metadata": {
    "ExecuteTime": {
     "end_time": "2025-07-08T20:32:39.276141Z",
     "start_time": "2025-07-08T20:32:39.273384Z"
    }
   },
   "cell_type": "code",
   "source": [
    "from sklearn.linear_model import LinearRegression, Ridge, Lasso, ElasticNet\n",
    "from sklearn.ensemble import RandomForestRegressor, GradientBoostingRegressor, AdaBoostRegressor, ExtraTreesRegressor\n",
    "from sklearn.tree import DecisionTreeRegressor\n",
    "from sklearn.svm import SVR\n",
    "from sklearn.neighbors import KNeighborsRegressor\n",
    "from sklearn.neural_network import MLPRegressor\n",
    "from xgboost import XGBRegressor\n",
    "from lightgbm import LGBMRegressor\n",
    "from catboost import CatBoostRegressor\n",
    "\n",
    "models = {\n",
    "    \"ExtraTrees\": ExtraTreesRegressor(random_state=42),\n",
    "\n",
    "    # \"SVR\": SVR(),\n",
    "    # \"RandomForest\": RandomForestRegressor(random_state=42),\n",
    "    # \"XGBoost\": XGBRegressor(verbosity=0, random_state=42),\n",
    "    # \"CatBoost\": CatBoostRegressor(verbose=0, random_state=42),\n",
    "    #\n",
    "    # \"LinearRegression\": LinearRegression(),\n",
    "    # \"Ridge\": Ridge(),\n",
    "    # \"Lasso\": Lasso(),\n",
    "    # \"ElasticNet\": ElasticNet(),\n",
    "    # \"DecisionTree\": DecisionTreeRegressor(random_state=42),\n",
    "    #\n",
    "    # \"GradientBoosting\": GradientBoostingRegressor(),\n",
    "    # \"AdaBoost\": AdaBoostRegressor(),\n",
    "    # \"KNeighbors\": KNeighborsRegressor(),\n",
    "    # \"MLP\": MLPRegressor(max_iter=1000),\n",
    "    # \"LightGBM\": LGBMRegressor()\n",
    "}\n"
   ],
   "id": "2bc794430e6eea62",
   "outputs": [],
   "execution_count": 49
  },
  {
   "metadata": {
    "ExecuteTime": {
     "end_time": "2025-07-08T20:32:39.284674Z",
     "start_time": "2025-07-08T20:32:39.280743Z"
    }
   },
   "cell_type": "code",
   "source": [
    "from sklearn.metrics import mean_squared_error, mean_absolute_error, r2_score\n",
    "import numpy as np\n",
    "\n",
    "\n",
    "def train_and_evaluate(models, X_train, y_train, X_valid, y_valid):\n",
    "    results = {}\n",
    "\n",
    "    for name, model in models.items():\n",
    "        print(f\"Training {name}...\")\n",
    "        model.fit(X_train, y_train)\n",
    "        predictions = model.predict(X_valid)\n",
    "\n",
    "        # predictions = np.expm1(predictions)\n",
    "\n",
    "        mse = mean_squared_error(y_valid, predictions)\n",
    "        rmse = np.sqrt(mse)\n",
    "        mae = mean_absolute_error(y_valid, predictions)\n",
    "        r2 = r2_score(y_valid, predictions)\n",
    "\n",
    "        results[name] = {\n",
    "            \"MSE\": mse,\n",
    "            \"RMSE\": rmse,\n",
    "            \"MAE\": mae,\n",
    "            \"R2\": r2\n",
    "        }\n",
    "    return results\n"
   ],
   "id": "70af277e7d73e59a",
   "outputs": [],
   "execution_count": 50
  },
  {
   "metadata": {
    "ExecuteTime": {
     "end_time": "2025-07-08T20:33:18.555267Z",
     "start_time": "2025-07-08T20:32:39.363156Z"
    }
   },
   "cell_type": "code",
   "source": [
    "results = train_and_evaluate(models, X_train_transformed, y_train, X_valid_transformed, y_valid)\n",
    "results_df = pd.DataFrame(results).T.sort_values(by=\"RMSE\")\n",
    "print(results_df)\n",
    "\n",
    "#                      MSE           RMSE          MAE        R2\n",
    "# ExtraTrees  1.252300e+10  111906.224356  49226.051519  0.642769\n",
    "\n"
   ],
   "id": "2f624a08d465db88",
   "outputs": [
    {
     "name": "stdout",
     "output_type": "stream",
     "text": [
      "Training ExtraTrees...\n",
      "                     MSE           RMSE           MAE        R2\n",
      "ExtraTrees  1.252300e+10  111906.224356  49226.051519  0.642769\n"
     ]
    }
   ],
   "execution_count": 51
  },
  {
   "metadata": {
    "ExecuteTime": {
     "end_time": "2025-07-08T20:33:18.615498Z",
     "start_time": "2025-07-08T20:33:18.608668Z"
    }
   },
   "cell_type": "code",
   "source": [
    "models = {\n",
    "    # \"RandomForest\": RandomForestRegressor(random_state=42),\n",
    "    \"ExtraTrees\": ExtraTreesRegressor(random_state=42),\n",
    "    # \"CatBoost\": CatBoostRegressor(verbose=0, random_state=42)\n",
    "}\n",
    "\n",
    "param_grids = {\n",
    "    # \"RandomForest\": {\n",
    "    #     'pca__n_components': [5, 10, 15, 19],\n",
    "    #     'model__n_estimators': [100, 300, 500, 800],\n",
    "    #     'model__max_depth': [None, 10, 20, 30, 50],\n",
    "    #     'model__min_samples_split': [2, 5, 10],\n",
    "    #     'model__min_samples_leaf': [1, 2, 4],\n",
    "    #     'model__max_features': ['sqrt', 'log2', None]\n",
    "    # },\n",
    "    \"ExtraTrees\": {\n",
    "        'pca__n_components': [5, 10, 15, 19],\n",
    "        'model__n_estimators': [100, 300, 500, 800],\n",
    "        'model__max_depth': [None, 10, 20, 30, 50],\n",
    "        'model__min_samples_split': [2, 5, 10],\n",
    "        'model__min_samples_leaf': [1, 2, 4],\n",
    "        'model__max_features': ['sqrt', 'log2', None]\n",
    "    },\n",
    "    # \"CatBoost\": {\n",
    "    #     'pca__n_components': [5, 10, 15, 19],\n",
    "    #     'model__iterations': [500, 1000],\n",
    "    #     'model__depth': [4, 6, 8, 10],\n",
    "    #     'model__learning_rate': [0.01, 0.05, 0.1, 0.2],\n",
    "    #     'model__l2_leaf_reg': [1, 3, 5, 7, 9],\n",
    "    #     'model__bagging_temperature': [0, 0.5, 1]\n",
    "    # }\n",
    "}\n"
   ],
   "id": "e5ec2793f0f7d18f",
   "outputs": [],
   "execution_count": 52
  },
  {
   "metadata": {
    "jupyter": {
     "is_executing": true
    },
    "ExecuteTime": {
     "start_time": "2025-07-08T20:33:18.658213Z"
    }
   },
   "cell_type": "code",
   "source": [
    "from sklearn.decomposition import PCA\n",
    "from sklearn.model_selection import cross_val_score, GridSearchCV\n",
    "\n",
    "preds = {}\n",
    "\n",
    "pplines = {}\n",
    "for name, model in models.items():\n",
    "    print(f\"\\n GridSearch for {name}...\")\n",
    "\n",
    "    pipeline = Pipeline([\n",
    "        ('pca', PCA()),\n",
    "        ('model', model)\n",
    "    ])\n",
    "\n",
    "    grid_search = GridSearchCV(\n",
    "        estimator=pipeline,\n",
    "        param_grid=param_grids[name],\n",
    "        cv=5,\n",
    "        scoring='neg_mean_squared_error',\n",
    "        verbose=2,\n",
    "        n_jobs=-1\n",
    "    )\n",
    "\n",
    "    grid_search.fit(X_train_transformed, y_train)\n",
    "\n",
    "    print(f\" Best params for {name}:\")\n",
    "    print(grid_search.best_params_)\n",
    "    print(f\" Best CV score (neg MSE): {-grid_search.best_score_:.4f}\")\n",
    "\n",
    "    best_pipeline = grid_search.best_estimator_\n",
    "\n",
    "    cv_scores = cross_val_score(\n",
    "        best_pipeline,\n",
    "        X_train_transformed,\n",
    "        y_train,\n",
    "        cv=5,\n",
    "        scoring='r2',\n",
    "        n_jobs=-1\n",
    "    )\n",
    "    print(f\" Final 5-fold CV R2: {(-cv_scores.mean()) ** 0.5:.4f} ± {cv_scores.std() ** 0.5:.4f}\")\n",
    "\n",
    "    y_pred = best_pipeline.predict(X_valid_transformed)\n",
    "\n",
    "    rmse = mean_squared_error(y_valid, y_pred)\n",
    "    r2 = r2_score(y_valid, y_pred)\n",
    "\n",
    "    preds[name] = y_pred\n",
    "    pplines[name] = best_pipeline"
   ],
   "id": "891e266e5babf3ef",
   "outputs": [
    {
     "name": "stdout",
     "output_type": "stream",
     "text": [
      "\n",
      " GridSearch for ExtraTrees...\n",
      "Fitting 5 folds for each of 2160 candidates, totalling 10800 fits\n"
     ]
    }
   ],
   "execution_count": null
  },
  {
   "metadata": {
    "ExecuteTime": {
     "end_time": "2025-07-08T20:32:38.253942500Z",
     "start_time": "2025-07-08T19:27:45.230995Z"
    }
   },
   "cell_type": "code",
   "source": [
    "\n",
    "for name, y_pred in preds.items():\n",
    "    rmse = mean_squared_error(y_valid, y_pred)\n",
    "    rmse = np.sqrt(rmse)\n",
    "    mae = mean_absolute_error(y_valid, y_pred)\n",
    "    r2 = r2_score(y_valid, y_pred)\n",
    "\n",
    "    print(f\"{name} on Validation:\")\n",
    "    print(f\"RMSE: {rmse:.4f}\")\n",
    "    print(f\"RMSE: {mae:.4f}\")\n",
    "    print(f\"R²:   {r2:.4f}\")\n",
    "    print()\n"
   ],
   "id": "8ff1e7461ee55603",
   "outputs": [
    {
     "name": "stdout",
     "output_type": "stream",
     "text": [
      "ExtraTrees on Validation:\n",
      "RMSE: 118259.3135\n",
      "RMSE: 57880.8490\n",
      "R²:   0.6011\n",
      "\n"
     ]
    }
   ],
   "execution_count": 20
  }
 ],
 "metadata": {
  "kernelspec": {
   "display_name": "Python 3",
   "language": "python",
   "name": "python3"
  },
  "language_info": {
   "codemirror_mode": {
    "name": "ipython",
    "version": 2
   },
   "file_extension": ".py",
   "mimetype": "text/x-python",
   "name": "python",
   "nbconvert_exporter": "python",
   "pygments_lexer": "ipython2",
   "version": "2.7.6"
  }
 },
 "nbformat": 4,
 "nbformat_minor": 5
}
