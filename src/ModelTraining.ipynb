{
 "cells": [
  {
   "cell_type": "code",
   "id": "initial_id",
   "metadata": {
    "collapsed": true,
    "ExecuteTime": {
     "end_time": "2025-07-03T14:35:24.052294Z",
     "start_time": "2025-07-03T14:35:23.841816Z"
    }
   },
   "source": [
    "import numpy as np\n",
    "import pandas as pd"
   ],
   "outputs": [],
   "execution_count": 1
  },
  {
   "metadata": {
    "ExecuteTime": {
     "end_time": "2025-07-03T14:35:24.147480Z",
     "start_time": "2025-07-03T14:35:24.126637Z"
    }
   },
   "cell_type": "code",
   "source": [
    "loaded_data = pd.read_csv('../data/topic21_v23_train.csv')\n",
    "\n",
    "loaded_data.info()"
   ],
   "id": "aba8bd5ff37bfc3c",
   "outputs": [
    {
     "name": "stdout",
     "output_type": "stream",
     "text": [
      "<class 'pandas.core.frame.DataFrame'>\n",
      "RangeIndex: 7962 entries, 0 to 7961\n",
      "Data columns (total 19 columns):\n",
      " #   Column              Non-Null Count  Dtype  \n",
      "---  ------              --------------  -----  \n",
      " 0   0                   7501 non-null   float64\n",
      " 1   1                   7472 non-null   float64\n",
      " 2   2                   7359 non-null   float64\n",
      " 3   3                   7556 non-null   float64\n",
      " 4   4                   7495 non-null   float64\n",
      " 5   brand               7962 non-null   object \n",
      " 6   model               7962 non-null   object \n",
      " 7   trim                7951 non-null   object \n",
      " 8   body_type           7962 non-null   object \n",
      " 9   fuel_type           7962 non-null   object \n",
      " 10  transmission_type   7962 non-null   object \n",
      " 11  engine_capacity_cc  6362 non-null   object \n",
      " 12  horsepower          7584 non-null   object \n",
      " 13  exterior_color      7962 non-null   object \n",
      " 14  interior_color      7962 non-null   object \n",
      " 15  warranty            7962 non-null   object \n",
      " 16  city                7962 non-null   object \n",
      " 17  seller_type         7962 non-null   object \n",
      " 18  price               7962 non-null   int64  \n",
      "dtypes: float64(5), int64(1), object(13)\n",
      "memory usage: 1.2+ MB\n"
     ]
    }
   ],
   "execution_count": 2
  },
  {
   "metadata": {
    "ExecuteTime": {
     "end_time": "2025-07-03T14:35:24.153731Z",
     "start_time": "2025-07-03T14:35:24.150760Z"
    }
   },
   "cell_type": "code",
   "source": [
    "def remove_outliers(df, threshold=2.5):\n",
    "    df_clean = df.copy()\n",
    "    initial_rows = len(df)\n",
    "    numeric_cols = df_clean.select_dtypes(include=['int64', 'float64']).columns\n",
    "\n",
    "    for col in numeric_cols:\n",
    "        Q1 = df_clean[col].quantile(0.25)\n",
    "        Q3 = df_clean[col].quantile(0.75)\n",
    "        IQR = Q3 - Q1\n",
    "        lower_bound = Q1 - threshold * IQR\n",
    "        upper_bound = Q3 + threshold * IQR\n",
    "        df_clean = df_clean[(df_clean[col] >= lower_bound) & (df_clean[col] <= upper_bound)]\n",
    "\n",
    "    removed_rows = initial_rows - len(df_clean)\n",
    "    print(f\"Removed {removed_rows} rows ({(removed_rows / initial_rows) * 100:.2f}% of data)\")\n",
    "\n",
    "    return df_clean\n"
   ],
   "id": "d726b946f468b963",
   "outputs": [],
   "execution_count": 3
  },
  {
   "metadata": {
    "ExecuteTime": {
     "end_time": "2025-07-03T14:35:24.670776Z",
     "start_time": "2025-07-03T14:35:24.170540Z"
    }
   },
   "cell_type": "code",
   "source": [
    "from sklearn.model_selection import train_test_split\n",
    "\n",
    "loaded_data = loaded_data.dropna(subset=['0', '1', '2', '3', '4'])\n",
    "# loaded_data = loaded_data.dropna()\n",
    "loaded_data = remove_outliers(loaded_data)\n",
    "\n",
    "loaded_data.info()"
   ],
   "id": "52a7da4e496b9130",
   "outputs": [
    {
     "name": "stdout",
     "output_type": "stream",
     "text": [
      "Removed 527 rows (9.07% of data)\n",
      "<class 'pandas.core.frame.DataFrame'>\n",
      "Index: 5284 entries, 0 to 7960\n",
      "Data columns (total 19 columns):\n",
      " #   Column              Non-Null Count  Dtype  \n",
      "---  ------              --------------  -----  \n",
      " 0   0                   5284 non-null   float64\n",
      " 1   1                   5284 non-null   float64\n",
      " 2   2                   5284 non-null   float64\n",
      " 3   3                   5284 non-null   float64\n",
      " 4   4                   5284 non-null   float64\n",
      " 5   brand               5284 non-null   object \n",
      " 6   model               5284 non-null   object \n",
      " 7   trim                5278 non-null   object \n",
      " 8   body_type           5284 non-null   object \n",
      " 9   fuel_type           5284 non-null   object \n",
      " 10  transmission_type   5284 non-null   object \n",
      " 11  engine_capacity_cc  4287 non-null   object \n",
      " 12  horsepower          5025 non-null   object \n",
      " 13  exterior_color      5284 non-null   object \n",
      " 14  interior_color      5284 non-null   object \n",
      " 15  warranty            5284 non-null   object \n",
      " 16  city                5284 non-null   object \n",
      " 17  seller_type         5284 non-null   object \n",
      " 18  price               5284 non-null   int64  \n",
      "dtypes: float64(5), int64(1), object(13)\n",
      "memory usage: 825.6+ KB\n"
     ]
    }
   ],
   "execution_count": 4
  },
  {
   "metadata": {
    "ExecuteTime": {
     "end_time": "2025-07-03T14:35:24.720815Z",
     "start_time": "2025-07-03T14:35:24.680475Z"
    }
   },
   "cell_type": "code",
   "source": [
    "df = loaded_data.copy()\n",
    "\n",
    "def extract_range_mean(val):\n",
    "    try:\n",
    "        nums = [int(s) for s in val.replace('cc','').replace('HP','').split('-')]\n",
    "        return np.mean(nums)\n",
    "    except:\n",
    "        return np.nan\n",
    "\n",
    "df['engine_capacity'] = df['engine_capacity_cc'].apply(extract_range_mean)\n",
    "df['horsepower_val'] = df['horsepower'].apply(extract_range_mean)\n",
    "df.drop(columns=['engine_capacity_cc', 'horsepower'], inplace=True)\n",
    "\n",
    "for col in ['brand', 'model', 'trim']:\n",
    "    means = df.groupby(col)['price'].mean()\n",
    "    df[col + '_enc'] = df[col].map(means)\n",
    "\n",
    "df.drop(columns=['brand', 'model', 'trim'], inplace=True)\n",
    "\n",
    "df.info()"
   ],
   "id": "98a38747bb6e629f",
   "outputs": [
    {
     "name": "stdout",
     "output_type": "stream",
     "text": [
      "<class 'pandas.core.frame.DataFrame'>\n",
      "Index: 5284 entries, 0 to 7960\n",
      "Data columns (total 19 columns):\n",
      " #   Column             Non-Null Count  Dtype  \n",
      "---  ------             --------------  -----  \n",
      " 0   0                  5284 non-null   float64\n",
      " 1   1                  5284 non-null   float64\n",
      " 2   2                  5284 non-null   float64\n",
      " 3   3                  5284 non-null   float64\n",
      " 4   4                  5284 non-null   float64\n",
      " 5   body_type          5284 non-null   object \n",
      " 6   fuel_type          5284 non-null   object \n",
      " 7   transmission_type  5284 non-null   object \n",
      " 8   exterior_color     5284 non-null   object \n",
      " 9   interior_color     5284 non-null   object \n",
      " 10  warranty           5284 non-null   object \n",
      " 11  city               5284 non-null   object \n",
      " 12  seller_type        5284 non-null   object \n",
      " 13  price              5284 non-null   int64  \n",
      " 14  engine_capacity    3172 non-null   float64\n",
      " 15  horsepower_val     4645 non-null   float64\n",
      " 16  brand_enc          5284 non-null   float64\n",
      " 17  model_enc          5284 non-null   float64\n",
      " 18  trim_enc           5278 non-null   float64\n",
      "dtypes: float64(10), int64(1), object(8)\n",
      "memory usage: 825.6+ KB\n"
     ]
    }
   ],
   "execution_count": 5
  },
  {
   "metadata": {
    "ExecuteTime": {
     "end_time": "2025-07-03T14:35:24.737093Z",
     "start_time": "2025-07-03T14:35:24.732395Z"
    }
   },
   "cell_type": "code",
   "source": [
    "X = df.drop(columns=['price'])\n",
    "y = df['price']\n",
    "\n",
    "# X_train_val, X_test, y_train_val, y_test = train_test_split(X, y, test_size=0.2, random_state=42)\n",
    "# X_train, X_valid, y_train, y_valid = train_test_split(X_train_val, y_train_val, test_size=0.2, random_state=42)\n",
    "\n",
    "X_train, X_valid, y_train, y_valid = train_test_split(X, y, test_size=0.2, random_state=42)\n",
    "\n",
    "print(f'X_train shape = {X_train.shape}')"
   ],
   "id": "40a4b26e55237399",
   "outputs": [
    {
     "name": "stdout",
     "output_type": "stream",
     "text": [
      "X_train shape = (4227, 18)\n"
     ]
    }
   ],
   "execution_count": 6
  },
  {
   "metadata": {
    "ExecuteTime": {
     "end_time": "2025-07-03T14:35:24.767929Z",
     "start_time": "2025-07-03T14:35:24.765841Z"
    }
   },
   "cell_type": "code",
   "source": "# y_train = np.log1p(y_train)",
   "id": "1bd8513461d43392",
   "outputs": [],
   "execution_count": 7
  },
  {
   "metadata": {
    "ExecuteTime": {
     "end_time": "2025-07-03T14:35:24.777507Z",
     "start_time": "2025-07-03T14:35:24.774284Z"
    }
   },
   "cell_type": "code",
   "source": [
    "numerical_features = X_train.select_dtypes(include=['int64', 'float64']).columns.tolist()\n",
    "categorical_features = X_train.select_dtypes(include=['object']).columns.tolist()\n",
    "\n",
    "print(\"Numerical features:\", numerical_features)\n",
    "print(\"Categorical features:\", categorical_features)"
   ],
   "id": "aeec3246b05f5391",
   "outputs": [
    {
     "name": "stdout",
     "output_type": "stream",
     "text": [
      "Numerical features: ['0', '1', '2', '3', '4', 'engine_capacity', 'horsepower_val', 'brand_enc', 'model_enc', 'trim_enc']\n",
      "Categorical features: ['body_type', 'fuel_type', 'transmission_type', 'exterior_color', 'interior_color', 'warranty', 'city', 'seller_type']\n"
     ]
    }
   ],
   "execution_count": 8
  },
  {
   "metadata": {
    "ExecuteTime": {
     "end_time": "2025-07-03T14:35:24.856743Z",
     "start_time": "2025-07-03T14:35:24.793506Z"
    }
   },
   "cell_type": "code",
   "source": [
    "from sklearn.impute import SimpleImputer\n",
    "from sklearn.pipeline import Pipeline\n",
    "from sklearn.preprocessing import StandardScaler, OneHotEncoder\n",
    "from sklearn.compose import ColumnTransformer\n",
    "\n",
    "numeric_transformer = Pipeline(steps=[\n",
    "    ('imputer', SimpleImputer(strategy='mean')),\n",
    "    ('scaler', StandardScaler())\n",
    "])\n",
    "\n",
    "categorical_transformer = Pipeline(steps=[\n",
    "    ('imputer', SimpleImputer(strategy='most_frequent')),\n",
    "    ('onehot', OneHotEncoder(handle_unknown='ignore'))\n",
    "])\n",
    "\n",
    "preprocessor = ColumnTransformer(\n",
    "    transformers=[\n",
    "        ('num', numeric_transformer, numerical_features),\n",
    "        ('cat', categorical_transformer, categorical_features)\n",
    "    ])\n",
    "\n",
    "pipeline = Pipeline([\n",
    "    ('preprocessor', preprocessor)\n",
    "])\n",
    "\n",
    "X_train_transformed = pipeline.fit_transform(X_train)\n",
    "X_valid_transformed = pipeline.transform(X_valid)\n"
   ],
   "id": "52e6cb480749a2ce",
   "outputs": [],
   "execution_count": 9
  },
  {
   "metadata": {
    "ExecuteTime": {
     "end_time": "2025-07-03T14:35:25.073257Z",
     "start_time": "2025-07-03T14:35:24.912965Z"
    }
   },
   "cell_type": "code",
   "source": [
    "from sklearn.linear_model import LinearRegression, Ridge, Lasso, ElasticNet\n",
    "from sklearn.ensemble import RandomForestRegressor, GradientBoostingRegressor, AdaBoostRegressor, ExtraTreesRegressor\n",
    "from sklearn.tree import DecisionTreeRegressor\n",
    "from sklearn.svm import SVR\n",
    "from sklearn.neighbors import KNeighborsRegressor\n",
    "from sklearn.neural_network import MLPRegressor\n",
    "from xgboost import XGBRegressor\n",
    "from lightgbm import LGBMRegressor\n",
    "from catboost import CatBoostRegressor\n",
    "\n",
    "models = {\n",
    "    \"SVR\": SVR(),\n",
    "    \"RandomForest\": RandomForestRegressor(random_state=42),\n",
    "    \"ExtraTrees\": ExtraTreesRegressor(random_state=42),\n",
    "    \"XGBoost\": XGBRegressor(verbosity=0, random_state=42),\n",
    "    \"CatBoost\": CatBoostRegressor(verbose=0, random_state=42),\n",
    "\n",
    "    \"LinearRegression\": LinearRegression(),\n",
    "    \"Ridge\": Ridge(),\n",
    "    \"Lasso\": Lasso(),\n",
    "    \"ElasticNet\": ElasticNet(),\n",
    "    \"DecisionTree\": DecisionTreeRegressor(),\n",
    "\n",
    "    \"GradientBoosting\": GradientBoostingRegressor(),\n",
    "    \"AdaBoost\": AdaBoostRegressor(),\n",
    "    \"KNeighbors\": KNeighborsRegressor(),\n",
    "    \"MLP\": MLPRegressor(max_iter=1000),\n",
    "    \"LightGBM\": LGBMRegressor()\n",
    "}"
   ],
   "id": "375d7f00f13f23dd",
   "outputs": [],
   "execution_count": 10
  },
  {
   "metadata": {
    "ExecuteTime": {
     "end_time": "2025-07-03T14:35:25.108557Z",
     "start_time": "2025-07-03T14:35:25.105113Z"
    }
   },
   "cell_type": "code",
   "source": [
    "from sklearn.metrics import mean_squared_error, mean_absolute_error, r2_score\n",
    "import numpy as np\n",
    "\n",
    "\n",
    "def train_and_evaluate(models, X_train, y_train, X_valid, y_valid):\n",
    "    results = {}\n",
    "\n",
    "    for name, model in models.items():\n",
    "        print(f\"Training {name}...\")\n",
    "        model.fit(X_train, y_train)\n",
    "        predictions = model.predict(X_valid)\n",
    "\n",
    "        # predictions = np.expm1(predictions)\n",
    "\n",
    "        mse = mean_squared_error(y_valid, predictions)\n",
    "        rmse = np.sqrt(mse)\n",
    "        mae = mean_absolute_error(y_valid, predictions)\n",
    "        r2 = r2_score(y_valid, predictions)\n",
    "\n",
    "        results[name] = {\n",
    "            \"MSE\": mse,\n",
    "            \"RMSE\": rmse,\n",
    "            \"MAE\": mae,\n",
    "            \"R2\": r2\n",
    "        }\n",
    "    return results\n"
   ],
   "id": "3aa16a221973c945",
   "outputs": [],
   "execution_count": 11
  },
  {
   "metadata": {
    "ExecuteTime": {
     "end_time": "2025-07-03T14:36:08.223707Z",
     "start_time": "2025-07-03T14:35:25.114964Z"
    }
   },
   "cell_type": "code",
   "source": [
    "results = train_and_evaluate(models, X_train_transformed, y_train, X_valid_transformed, y_valid)\n",
    "results_df = pd.DataFrame(results).T.sort_values(by=\"RMSE\")\n",
    "print(results_df)\n",
    "\n",
    "#                            MSE           RMSE           MAE        R2\n",
    "# ExtraTrees        2.300680e+09   47965.405562  27334.086064  0.832969\n",
    "# CatBoost          2.332535e+09   48296.323356  28911.441108  0.830657\n",
    "# LightGBM          2.544481e+09   50442.845133  29909.264855  0.815269\n",
    "# RandomForest      2.643218e+09   51412.237630  29510.046310  0.808101\n",
    "# XGBoost           3.004045e+09   54809.167116  32024.214844  0.781905\n",
    "# GradientBoosting  3.060930e+09   55325.675034  33478.641035  0.777775\n",
    "# KNeighbors        3.073613e+09   55440.173602  33711.935667  0.776854\n",
    "# Ridge             4.233555e+09   65065.776787  44321.855722  0.692641\n",
    "# Lasso             4.240731e+09   65120.895425  44350.276718  0.692120\n",
    "# LinearRegression  4.241846e+09   65129.453553  44358.322408  0.692040\n",
    "# MLP               4.477839e+09   66916.657159  45434.789582  0.674906\n",
    "# ElasticNet        4.663008e+09   68286.222193  45774.959768  0.661463\n",
    "# AdaBoost          5.208130e+09   72167.372223  50042.730693  0.621887\n",
    "# DecisionTree      6.519399e+09   80742.795897  41289.352886  0.526688\n",
    "# SVR               1.557468e+10  124798.543912  84310.212564 -0.130731\n"
   ],
   "id": "d48c63ceeb1cc93a",
   "outputs": [
    {
     "name": "stdout",
     "output_type": "stream",
     "text": [
      "Training SVR...\n",
      "Training RandomForest...\n",
      "Training ExtraTrees...\n",
      "Training XGBoost...\n",
      "Training CatBoost...\n",
      "Training LinearRegression...\n",
      "Training Ridge...\n",
      "Training Lasso...\n",
      "Training ElasticNet...\n",
      "Training DecisionTree...\n",
      "Training GradientBoosting...\n",
      "Training AdaBoost...\n",
      "Training KNeighbors...\n",
      "Training MLP...\n"
     ]
    },
    {
     "name": "stderr",
     "output_type": "stream",
     "text": [
      "C:\\Users\\GED\\PycharmProjects\\Hands_on_ML\\.venv\\Lib\\site-packages\\sklearn\\neural_network\\_multilayer_perceptron.py:780: ConvergenceWarning: Stochastic Optimizer: Maximum iterations (1000) reached and the optimization hasn't converged yet.\n",
      "  warnings.warn(\n"
     ]
    },
    {
     "name": "stdout",
     "output_type": "stream",
     "text": [
      "Training LightGBM...\n",
      "[LightGBM] [Info] Auto-choosing col-wise multi-threading, the overhead of testing was 0.000975 seconds.\n",
      "You can set `force_col_wise=true` to remove the overhead.\n",
      "[LightGBM] [Info] Total Bins 1951\n",
      "[LightGBM] [Info] Number of data points in the train set: 4227, number of used features: 59\n",
      "[LightGBM] [Info] Start training from score 126314.462266\n",
      "                           MSE           RMSE           MAE        R2\n",
      "ExtraTrees        2.300680e+09   47965.405562  27334.086064  0.832969\n",
      "CatBoost          2.332535e+09   48296.323356  28911.441108  0.830657\n",
      "LightGBM          2.544481e+09   50442.845133  29909.264855  0.815269\n",
      "RandomForest      2.643218e+09   51412.237630  29510.046310  0.808101\n",
      "XGBoost           3.004045e+09   54809.167116  32024.214844  0.781905\n",
      "GradientBoosting  3.060930e+09   55325.675034  33478.641035  0.777775\n",
      "KNeighbors        3.073613e+09   55440.173602  33711.935667  0.776854\n",
      "Ridge             4.233555e+09   65065.776787  44321.855722  0.692641\n",
      "Lasso             4.240731e+09   65120.895425  44350.276718  0.692120\n",
      "LinearRegression  4.241846e+09   65129.453553  44358.322408  0.692040\n",
      "MLP               4.477839e+09   66916.657159  45434.789582  0.674906\n",
      "ElasticNet        4.663008e+09   68286.222193  45774.959768  0.661463\n",
      "AdaBoost          5.208130e+09   72167.372223  50042.730693  0.621887\n",
      "DecisionTree      6.519399e+09   80742.795897  41289.352886  0.526688\n",
      "SVR               1.557468e+10  124798.543912  84310.212564 -0.130731\n"
     ]
    },
    {
     "name": "stderr",
     "output_type": "stream",
     "text": [
      "C:\\Users\\GED\\PycharmProjects\\Hands_on_ML\\.venv\\Lib\\site-packages\\sklearn\\utils\\validation.py:2749: UserWarning: X does not have valid feature names, but LGBMRegressor was fitted with feature names\n",
      "  warnings.warn(\n"
     ]
    }
   ],
   "execution_count": 12
  },
  {
   "metadata": {
    "ExecuteTime": {
     "end_time": "2025-07-03T14:36:08.342442Z",
     "start_time": "2025-07-03T14:36:08.332184Z"
    }
   },
   "cell_type": "code",
   "source": [
    "from sklearn.ensemble import RandomForestRegressor, ExtraTreesRegressor\n",
    "from sklearn.svm import SVR\n",
    "from catboost import CatBoostRegressor\n",
    "from xgboost import XGBRegressor\n",
    "\n",
    "models = {\n",
    "    \"RandomForest\": RandomForestRegressor(random_state=42),\n",
    "    \"ExtraTrees\": ExtraTreesRegressor(random_state=42),\n",
    "    \"CatBoost\": CatBoostRegressor(verbose=0, random_state=42),\n",
    "    \"XGBoost\": XGBRegressor(verbosity=0, random_state=42)\n",
    "}\n",
    "\n",
    "param_grids = {\n",
    "    \"RandomForest\": {\n",
    "        'pca__n_components': [5, 10, 15, 19],\n",
    "        'model__n_estimators': [100, 300, 500, 800],\n",
    "        'model__max_depth': [None, 10, 20, 30, 50],\n",
    "        'model__min_samples_split': [2, 5, 10],\n",
    "        'model__min_samples_leaf': [1, 2, 4],\n",
    "        'model__max_features': ['sqrt', 'log2', None]\n",
    "    },\n",
    "    \"ExtraTrees\": {\n",
    "        'pca__n_components': [5, 10, 15, 19],\n",
    "        'model__n_estimators': [100, 300, 500, 800],\n",
    "        'model__max_depth': [None, 10, 20, 30, 50],\n",
    "        'model__min_samples_split': [2, 5, 10],\n",
    "        'model__min_samples_leaf': [1, 2, 4],\n",
    "        'model__max_features': ['sqrt', 'log2', None]\n",
    "    },\n",
    "    \"CatBoost\": {\n",
    "        'pca__n_components': [5, 10, 15, 19],\n",
    "        'model__iterations': [500, 1000],\n",
    "        'model__depth': [4, 6, 8, 10],\n",
    "        'model__learning_rate': [0.01, 0.05, 0.1, 0.2],\n",
    "        'model__l2_leaf_reg': [1, 3, 5, 7, 9],\n",
    "        'model__bagging_temperature': [0, 0.5, 1]\n",
    "    },\n",
    "    \"XGBoost\": {\n",
    "        'pca__n_components': [5, 10, 15, 19],\n",
    "        'model__n_estimators': [100, 300, 500, 800],\n",
    "        'model__max_depth': [3, 5, 7, 10],\n",
    "        'model__learning_rate': [0.01, 0.05, 0.1, 0.2],\n",
    "        'model__subsample': [0.6, 0.8, 1.0],\n",
    "        'model__colsample_bytree': [0.6, 0.8, 1.0],\n",
    "        'model__gamma': [0, 0.1, 0.3, 0.5],\n",
    "        'model__reg_alpha': [0, 0.1, 1],\n",
    "        'model__reg_lambda': [1, 1.5, 2]\n",
    "    }\n",
    "}\n"
   ],
   "id": "a99d2cf2846faa00",
   "outputs": [],
   "execution_count": 13
  },
  {
   "metadata": {
    "jupyter": {
     "is_executing": true
    },
    "ExecuteTime": {
     "start_time": "2025-07-03T14:36:08.384668Z"
    }
   },
   "cell_type": "code",
   "source": [
    "from sklearn.decomposition import PCA\n",
    "from sklearn.model_selection import cross_val_score, GridSearchCV\n",
    "\n",
    "preds = {}\n",
    "for name, model in models.items():\n",
    "    print(f\"\\n GridSearch for {name}...\")\n",
    "\n",
    "    pipeline = Pipeline([\n",
    "        ('pca', PCA()),\n",
    "        ('model', model)\n",
    "    ])\n",
    "\n",
    "    grid_search = GridSearchCV(\n",
    "        estimator=pipeline,\n",
    "        param_grid=param_grids[name],\n",
    "        cv=5,\n",
    "        scoring='neg_mean_squared_error',\n",
    "        verbose=2,\n",
    "        n_jobs=-1\n",
    "    )\n",
    "\n",
    "    grid_search.fit(X_train_transformed, y_train)\n",
    "\n",
    "    print(f\" Best params for {name}:\")\n",
    "    print(grid_search.best_params_)\n",
    "    print(f\" Best CV score (neg MSE): {-grid_search.best_score_:.4f}\")\n",
    "\n",
    "    best_pipeline = grid_search.best_estimator_\n",
    "\n",
    "    cv_scores = cross_val_score(\n",
    "        best_pipeline,\n",
    "        X_train_transformed,\n",
    "        y_train,\n",
    "        cv=5,\n",
    "        scoring='neg_mean_squared_error',\n",
    "        n_jobs=-1\n",
    "    )\n",
    "    print(f\" Final 5-fold CV RMSE (log scale): {(-cv_scores.mean()) ** 0.5:.4f} ± {cv_scores.std() ** 0.5:.4f}\")\n",
    "\n",
    "    y_pred_log = best_pipeline.predict(X_valid_transformed)\n",
    "\n",
    "    y_pred = np.expm1(y_pred_log)\n",
    "\n",
    "    rmse = mean_squared_error(y_valid, y_pred)\n",
    "    r2 = r2_score(y_valid, y_pred)\n",
    "\n",
    "    print(f\"{name} on Validation:\")\n",
    "    print(f\"RMSE: {rmse:.4f}\")\n",
    "    print(f\"R²:   {r2:.4f}\")\n",
    "\n",
    "    preds[name] = y_pred"
   ],
   "id": "36024afe4ab90d31",
   "outputs": [
    {
     "name": "stdout",
     "output_type": "stream",
     "text": [
      "\n",
      " GridSearch for RandomForest...\n",
      "Fitting 5 folds for each of 2160 candidates, totalling 10800 fits\n"
     ]
    }
   ],
   "execution_count": null
  }
 ],
 "metadata": {
  "kernelspec": {
   "display_name": "Python 3",
   "language": "python",
   "name": "python3"
  },
  "language_info": {
   "codemirror_mode": {
    "name": "ipython",
    "version": 2
   },
   "file_extension": ".py",
   "mimetype": "text/x-python",
   "name": "python",
   "nbconvert_exporter": "python",
   "pygments_lexer": "ipython2",
   "version": "2.7.6"
  }
 },
 "nbformat": 4,
 "nbformat_minor": 5
}
