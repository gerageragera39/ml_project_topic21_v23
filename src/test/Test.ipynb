{
 "cells": [
  {
   "metadata": {
    "ExecuteTime": {
     "end_time": "2025-07-08T22:26:02.341100Z",
     "start_time": "2025-07-08T22:26:02.113706Z"
    }
   },
   "cell_type": "code",
   "source": [
    "import numpy as np\n",
    "import pandas as pd"
   ],
   "id": "92bb4794cc58e136",
   "outputs": [],
   "execution_count": 1
  },
  {
   "metadata": {
    "ExecuteTime": {
     "end_time": "2025-07-08T22:26:02.431046Z",
     "start_time": "2025-07-08T22:26:02.408836Z"
    }
   },
   "cell_type": "code",
   "source": [
    "loaded_data = pd.read_csv('../../data/topic21_v23_train.csv')\n",
    "\n",
    "loaded_data.info()"
   ],
   "id": "5f2802455ebe3515",
   "outputs": [
    {
     "name": "stdout",
     "output_type": "stream",
     "text": [
      "<class 'pandas.core.frame.DataFrame'>\n",
      "RangeIndex: 7962 entries, 0 to 7961\n",
      "Data columns (total 19 columns):\n",
      " #   Column              Non-Null Count  Dtype  \n",
      "---  ------              --------------  -----  \n",
      " 0   0                   7501 non-null   float64\n",
      " 1   1                   7472 non-null   float64\n",
      " 2   2                   7359 non-null   float64\n",
      " 3   3                   7556 non-null   float64\n",
      " 4   4                   7495 non-null   float64\n",
      " 5   brand               7962 non-null   object \n",
      " 6   model               7962 non-null   object \n",
      " 7   trim                7951 non-null   object \n",
      " 8   body_type           7962 non-null   object \n",
      " 9   fuel_type           7962 non-null   object \n",
      " 10  transmission_type   7962 non-null   object \n",
      " 11  engine_capacity_cc  6362 non-null   object \n",
      " 12  horsepower          7584 non-null   object \n",
      " 13  exterior_color      7962 non-null   object \n",
      " 14  interior_color      7962 non-null   object \n",
      " 15  warranty            7962 non-null   object \n",
      " 16  city                7962 non-null   object \n",
      " 17  seller_type         7962 non-null   object \n",
      " 18  price               7962 non-null   int64  \n",
      "dtypes: float64(5), int64(1), object(13)\n",
      "memory usage: 1.2+ MB\n"
     ]
    }
   ],
   "execution_count": 2
  },
  {
   "metadata": {
    "ExecuteTime": {
     "end_time": "2025-07-08T22:26:02.456642Z",
     "start_time": "2025-07-08T22:26:02.452993Z"
    }
   },
   "cell_type": "code",
   "source": [
    "def add_outlier_column(df, threshold=2.5):\n",
    "    df_copy = df.copy()\n",
    "    numeric_cols = df.select_dtypes(include=['float64', 'int64']).drop('price', axis=1).columns\n",
    "\n",
    "    df_copy['is_outlier'] = 0\n",
    "    for col in numeric_cols:\n",
    "        z_scores = np.abs((df[col] - df[col].mean()) / df[col].std())\n",
    "        df_copy['is_outlier'] = (df_copy['is_outlier'] | (z_scores > threshold)).astype(int)\n",
    "\n",
    "    return df_copy\n"
   ],
   "id": "59ca03e299eaf657",
   "outputs": [],
   "execution_count": 3
  },
  {
   "metadata": {
    "ExecuteTime": {
     "end_time": "2025-07-08T22:26:02.499304Z",
     "start_time": "2025-07-08T22:26:02.466236Z"
    }
   },
   "cell_type": "code",
   "source": [
    "df = loaded_data.copy()\n",
    "\n",
    "\n",
    "def parse_mid(r):\n",
    "        if pd.isna(r) or r=='Unknown': return np.nan\n",
    "        s = ''.join(c for c in r if c.isdigit() or c=='-')\n",
    "        if '-' in s:\n",
    "            lo, hi = map(int, s.split('-'))\n",
    "            return (lo+hi)/2\n",
    "        return float(s)\n",
    "for col in ['engine_capacity_cc','horsepower']:\n",
    "    df[col+'_num'] = df[col].apply(parse_mid)\n",
    "    df[col+'_miss'] = df[col+'_num'].isna().astype(int)\n",
    "    df[col+'_num'] = df[col+'_num'].fillna(df[col+'_num'].median())\n",
    "    df.drop(columns=[col], inplace=True)\n",
    "\n",
    "df['is_automatic'] = (df['transmission_type'] == 'Automatic Transmission').astype(int)\n",
    "df = df.drop('transmission_type', axis=1)\n",
    "\n",
    "\n",
    "df['hp_per_cc'] = df['horsepower_num'] / df['engine_capacity_cc_num']\n",
    "\n",
    "\n",
    "\n",
    "df.info()"
   ],
   "id": "e879ff133df839f7",
   "outputs": [
    {
     "name": "stdout",
     "output_type": "stream",
     "text": [
      "<class 'pandas.core.frame.DataFrame'>\n",
      "RangeIndex: 7962 entries, 0 to 7961\n",
      "Data columns (total 22 columns):\n",
      " #   Column                   Non-Null Count  Dtype  \n",
      "---  ------                   --------------  -----  \n",
      " 0   0                        7501 non-null   float64\n",
      " 1   1                        7472 non-null   float64\n",
      " 2   2                        7359 non-null   float64\n",
      " 3   3                        7556 non-null   float64\n",
      " 4   4                        7495 non-null   float64\n",
      " 5   brand                    7962 non-null   object \n",
      " 6   model                    7962 non-null   object \n",
      " 7   trim                     7951 non-null   object \n",
      " 8   body_type                7962 non-null   object \n",
      " 9   fuel_type                7962 non-null   object \n",
      " 10  exterior_color           7962 non-null   object \n",
      " 11  interior_color           7962 non-null   object \n",
      " 12  warranty                 7962 non-null   object \n",
      " 13  city                     7962 non-null   object \n",
      " 14  seller_type              7962 non-null   object \n",
      " 15  price                    7962 non-null   int64  \n",
      " 16  engine_capacity_cc_num   7962 non-null   float64\n",
      " 17  engine_capacity_cc_miss  7962 non-null   int64  \n",
      " 18  horsepower_num           7962 non-null   float64\n",
      " 19  horsepower_miss          7962 non-null   int64  \n",
      " 20  is_automatic             7962 non-null   int64  \n",
      " 21  hp_per_cc                7962 non-null   float64\n",
      "dtypes: float64(8), int64(4), object(10)\n",
      "memory usage: 1.3+ MB\n"
     ]
    }
   ],
   "execution_count": 4
  },
  {
   "metadata": {
    "ExecuteTime": {
     "end_time": "2025-07-08T22:26:03.058044Z",
     "start_time": "2025-07-08T22:26:02.523651Z"
    }
   },
   "cell_type": "code",
   "source": [
    "from sklearn.model_selection import train_test_split\n",
    "\n",
    "train_set, valid_set = train_test_split(df, test_size=0.2, random_state=42)\n",
    "\n",
    "train_set = add_outlier_column(train_set)\n",
    "valid_set = add_outlier_column(valid_set)\n",
    "\n",
    "print(\"Number of True values train:\", train_set['is_outlier'].sum())\n",
    "print(\"Number of True values valid:\", valid_set['is_outlier'].sum())\n",
    "\n",
    "for col in ['model']:\n",
    "    means = train_set.groupby(col)['price'].mean()\n",
    "    train_set[col + '_enc'] = train_set[col].map(means)\n",
    "    valid_set[col + '_enc'] = valid_set[col].map(means)\n",
    "\n",
    "train_set.drop(columns=['model'], inplace=True)\n",
    "valid_set.drop(columns=['model'], inplace=True)\n"
   ],
   "id": "fe56e2145533f839",
   "outputs": [
    {
     "name": "stdout",
     "output_type": "stream",
     "text": [
      "Number of True values train: 1465\n",
      "Number of True values valid: 406\n"
     ]
    }
   ],
   "execution_count": 5
  },
  {
   "metadata": {
    "ExecuteTime": {
     "end_time": "2025-07-08T22:26:03.081561Z",
     "start_time": "2025-07-08T22:26:03.075907Z"
    }
   },
   "cell_type": "code",
   "source": "train_set.info()",
   "id": "dfe53e250ee0ba36",
   "outputs": [
    {
     "name": "stdout",
     "output_type": "stream",
     "text": [
      "<class 'pandas.core.frame.DataFrame'>\n",
      "Index: 6369 entries, 2864 to 7270\n",
      "Data columns (total 23 columns):\n",
      " #   Column                   Non-Null Count  Dtype  \n",
      "---  ------                   --------------  -----  \n",
      " 0   0                        5995 non-null   float64\n",
      " 1   1                        5997 non-null   float64\n",
      " 2   2                        5876 non-null   float64\n",
      " 3   3                        6038 non-null   float64\n",
      " 4   4                        5997 non-null   float64\n",
      " 5   brand                    6369 non-null   object \n",
      " 6   trim                     6359 non-null   object \n",
      " 7   body_type                6369 non-null   object \n",
      " 8   fuel_type                6369 non-null   object \n",
      " 9   exterior_color           6369 non-null   object \n",
      " 10  interior_color           6369 non-null   object \n",
      " 11  warranty                 6369 non-null   object \n",
      " 12  city                     6369 non-null   object \n",
      " 13  seller_type              6369 non-null   object \n",
      " 14  price                    6369 non-null   int64  \n",
      " 15  engine_capacity_cc_num   6369 non-null   float64\n",
      " 16  engine_capacity_cc_miss  6369 non-null   int64  \n",
      " 17  horsepower_num           6369 non-null   float64\n",
      " 18  horsepower_miss          6369 non-null   int64  \n",
      " 19  is_automatic             6369 non-null   int64  \n",
      " 20  hp_per_cc                6369 non-null   float64\n",
      " 21  is_outlier               6369 non-null   int64  \n",
      " 22  model_enc                6369 non-null   float64\n",
      "dtypes: float64(9), int64(5), object(9)\n",
      "memory usage: 1.2+ MB\n"
     ]
    }
   ],
   "execution_count": 6
  },
  {
   "metadata": {
    "ExecuteTime": {
     "end_time": "2025-07-08T22:26:03.108085Z",
     "start_time": "2025-07-08T22:26:03.104091Z"
    }
   },
   "cell_type": "code",
   "source": [
    "X_train = train_set.drop(columns=['price'])\n",
    "y_train = train_set['price']\n",
    "\n",
    "\n",
    "X_valid = valid_set.drop(columns=['price'])\n",
    "y_valid = valid_set['price']"
   ],
   "id": "35137a511f84dc73",
   "outputs": [],
   "execution_count": 7
  },
  {
   "metadata": {
    "ExecuteTime": {
     "end_time": "2025-07-08T22:26:03.155622Z",
     "start_time": "2025-07-08T22:26:03.152426Z"
    }
   },
   "cell_type": "code",
   "source": [
    "numerical_features = X_train.select_dtypes(include=['int64', 'float64']).columns.tolist()\n",
    "categorical_features = X_train.select_dtypes(include=['object']).columns.tolist()\n",
    "\n",
    "print(\"Numerical features:\", numerical_features)\n",
    "print(\"Categorical features:\", categorical_features)"
   ],
   "id": "7bcd2b2b1469d9ee",
   "outputs": [
    {
     "name": "stdout",
     "output_type": "stream",
     "text": [
      "Numerical features: ['0', '1', '2', '3', '4', 'engine_capacity_cc_num', 'engine_capacity_cc_miss', 'horsepower_num', 'horsepower_miss', 'is_automatic', 'hp_per_cc', 'is_outlier', 'model_enc']\n",
      "Categorical features: ['brand', 'trim', 'body_type', 'fuel_type', 'exterior_color', 'interior_color', 'warranty', 'city', 'seller_type']\n"
     ]
    }
   ],
   "execution_count": 8
  },
  {
   "metadata": {
    "ExecuteTime": {
     "end_time": "2025-07-08T22:26:03.202380Z",
     "start_time": "2025-07-08T22:26:03.196080Z"
    }
   },
   "cell_type": "code",
   "source": [
    "correlation = train_set[numerical_features + ['price']].corr()\n",
    "\n",
    "print(correlation['price'].sort_values(ascending=False))"
   ],
   "id": "409ee45ab55d3868",
   "outputs": [
    {
     "name": "stdout",
     "output_type": "stream",
     "text": [
      "price                      1.000000\n",
      "model_enc                  0.695101\n",
      "horsepower_num             0.409238\n",
      "0                          0.273631\n",
      "engine_capacity_cc_num     0.257073\n",
      "engine_capacity_cc_miss    0.175946\n",
      "hp_per_cc                  0.134919\n",
      "1                          0.019409\n",
      "is_outlier                 0.014194\n",
      "is_automatic               0.003505\n",
      "horsepower_miss           -0.046558\n",
      "4                         -0.131088\n",
      "3                         -0.242796\n",
      "2                         -0.311485\n",
      "Name: price, dtype: float64\n"
     ]
    }
   ],
   "execution_count": 9
  },
  {
   "metadata": {
    "ExecuteTime": {
     "end_time": "2025-07-08T22:26:03.300531Z",
     "start_time": "2025-07-08T22:26:03.228406Z"
    }
   },
   "cell_type": "code",
   "source": [
    "from sklearn.impute import SimpleImputer\n",
    "from sklearn.pipeline import Pipeline\n",
    "from sklearn.preprocessing import StandardScaler, OneHotEncoder\n",
    "from sklearn.compose import ColumnTransformer\n",
    "\n",
    "numeric_transformer = Pipeline(steps=[\n",
    "    ('imputer', SimpleImputer(strategy='mean')),\n",
    "    ('scaler', StandardScaler())\n",
    "])\n",
    "\n",
    "categorical_transformer = Pipeline(steps=[\n",
    "    ('imputer', SimpleImputer(strategy='most_frequent')),\n",
    "    ('onehot', OneHotEncoder(handle_unknown='ignore'))\n",
    "])\n",
    "\n",
    "preprocessor = ColumnTransformer(\n",
    "    transformers=[\n",
    "        ('num', numeric_transformer, numerical_features),\n",
    "        ('cat', categorical_transformer, categorical_features)\n",
    "    ])\n",
    "\n",
    "pipeline = Pipeline([\n",
    "    ('preprocessor', preprocessor)\n",
    "])\n",
    "\n",
    "\n",
    "X_train_transformed = pipeline.fit_transform(X_train)\n",
    "X_valid_transformed = pipeline.transform(X_valid)\n"
   ],
   "id": "339505afc427250c",
   "outputs": [],
   "execution_count": 10
  },
  {
   "metadata": {
    "ExecuteTime": {
     "end_time": "2025-07-08T22:26:03.358492Z",
     "start_time": "2025-07-08T22:26:03.336887Z"
    }
   },
   "cell_type": "code",
   "source": [
    "\n",
    "from sklearn.ensemble import ExtraTreesRegressor\n",
    "\n",
    "\n",
    "models = {\n",
    "    \"ExtraTrees\": ExtraTreesRegressor(random_state=42),\n",
    "}\n"
   ],
   "id": "2bc794430e6eea62",
   "outputs": [],
   "execution_count": 11
  },
  {
   "metadata": {
    "ExecuteTime": {
     "end_time": "2025-07-08T22:26:03.396607Z",
     "start_time": "2025-07-08T22:26:03.393468Z"
    }
   },
   "cell_type": "code",
   "source": [
    "from sklearn.metrics import mean_squared_error, mean_absolute_error, r2_score\n",
    "import numpy as np\n",
    "\n",
    "\n",
    "def train_and_evaluate(models, X_train, y_train, X_valid, y_valid):\n",
    "    results = {}\n",
    "\n",
    "    for name, model in models.items():\n",
    "        print(f\"Training {name}...\")\n",
    "        model.fit(X_train, y_train)\n",
    "        predictions = model.predict(X_valid)\n",
    "\n",
    "        # predictions = np.expm1(predictions)\n",
    "\n",
    "        mse = mean_squared_error(y_valid, predictions)\n",
    "        rmse = np.sqrt(mse)\n",
    "        mae = mean_absolute_error(y_valid, predictions)\n",
    "        r2 = r2_score(y_valid, predictions)\n",
    "\n",
    "        results[name] = {\n",
    "            \"MSE\": mse,\n",
    "            \"RMSE\": rmse,\n",
    "            \"MAE\": mae,\n",
    "            \"R2\": r2\n",
    "        }\n",
    "    return results\n"
   ],
   "id": "70af277e7d73e59a",
   "outputs": [],
   "execution_count": 12
  },
  {
   "metadata": {
    "ExecuteTime": {
     "end_time": "2025-07-08T22:26:43.160582Z",
     "start_time": "2025-07-08T22:26:03.433569Z"
    }
   },
   "cell_type": "code",
   "source": [
    "results = train_and_evaluate(models, X_train_transformed, y_train, X_valid_transformed, y_valid)\n",
    "results_df = pd.DataFrame(results).T.sort_values(by=\"RMSE\")\n",
    "print(results_df)\n",
    "\n",
    "#                      MSE           RMSE          MAE        R2\n",
    "# ExtraTrees  1.249172e+10  111766.347187  49114.416529  0.643662\n",
    "\n"
   ],
   "id": "2f624a08d465db88",
   "outputs": [
    {
     "name": "stdout",
     "output_type": "stream",
     "text": [
      "Training ExtraTrees...\n",
      "                     MSE           RMSE           MAE        R2\n",
      "ExtraTrees  1.249172e+10  111766.347187  49114.416529  0.643662\n"
     ]
    }
   ],
   "execution_count": 13
  }
 ],
 "metadata": {
  "kernelspec": {
   "display_name": "Python 3",
   "language": "python",
   "name": "python3"
  },
  "language_info": {
   "codemirror_mode": {
    "name": "ipython",
    "version": 2
   },
   "file_extension": ".py",
   "mimetype": "text/x-python",
   "name": "python",
   "nbconvert_exporter": "python",
   "pygments_lexer": "ipython2",
   "version": "2.7.6"
  }
 },
 "nbformat": 4,
 "nbformat_minor": 5
}
