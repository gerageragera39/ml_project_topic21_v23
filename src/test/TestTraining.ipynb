{
 "cells": [
  {
   "cell_type": "code",
   "id": "initial_id",
   "metadata": {
    "collapsed": true,
    "ExecuteTime": {
     "end_time": "2025-07-03T15:23:58.522797Z",
     "start_time": "2025-07-03T15:23:58.519772Z"
    }
   },
   "source": [
    "import numpy as np\n",
    "import pandas as pd"
   ],
   "outputs": [],
   "execution_count": 14
  },
  {
   "metadata": {
    "ExecuteTime": {
     "end_time": "2025-07-03T15:23:58.640221Z",
     "start_time": "2025-07-03T15:23:58.604247Z"
    }
   },
   "cell_type": "code",
   "source": [
    "loaded_data = pd.read_csv('../../data/topic21_v23_train.csv')\n",
    "\n",
    "loaded_data.info()"
   ],
   "id": "aba8bd5ff37bfc3c",
   "outputs": [
    {
     "name": "stdout",
     "output_type": "stream",
     "text": [
      "<class 'pandas.core.frame.DataFrame'>\n",
      "RangeIndex: 7962 entries, 0 to 7961\n",
      "Data columns (total 19 columns):\n",
      " #   Column              Non-Null Count  Dtype  \n",
      "---  ------              --------------  -----  \n",
      " 0   0                   7501 non-null   float64\n",
      " 1   1                   7472 non-null   float64\n",
      " 2   2                   7359 non-null   float64\n",
      " 3   3                   7556 non-null   float64\n",
      " 4   4                   7495 non-null   float64\n",
      " 5   brand               7962 non-null   object \n",
      " 6   model               7962 non-null   object \n",
      " 7   trim                7951 non-null   object \n",
      " 8   body_type           7962 non-null   object \n",
      " 9   fuel_type           7962 non-null   object \n",
      " 10  transmission_type   7962 non-null   object \n",
      " 11  engine_capacity_cc  6362 non-null   object \n",
      " 12  horsepower          7584 non-null   object \n",
      " 13  exterior_color      7962 non-null   object \n",
      " 14  interior_color      7962 non-null   object \n",
      " 15  warranty            7962 non-null   object \n",
      " 16  city                7962 non-null   object \n",
      " 17  seller_type         7962 non-null   object \n",
      " 18  price               7962 non-null   int64  \n",
      "dtypes: float64(5), int64(1), object(13)\n",
      "memory usage: 1.2+ MB\n"
     ]
    }
   ],
   "execution_count": 15
  },
  {
   "metadata": {
    "ExecuteTime": {
     "end_time": "2025-07-03T15:23:58.722581Z",
     "start_time": "2025-07-03T15:23:58.716854Z"
    }
   },
   "cell_type": "code",
   "source": [
    "def remove_outliers(df, threshold=2.5):\n",
    "    df_clean = df.copy()\n",
    "    initial_rows = len(df)\n",
    "    numeric_cols = df_clean.select_dtypes(include=['int64', 'float64']).columns\n",
    "\n",
    "    for col in numeric_cols:\n",
    "        Q1 = df_clean[col].quantile(0.25)\n",
    "        Q3 = df_clean[col].quantile(0.75)\n",
    "        IQR = Q3 - Q1\n",
    "        lower_bound = Q1 - threshold * IQR\n",
    "        upper_bound = Q3 + threshold * IQR\n",
    "        df_clean = df_clean[(df_clean[col] >= lower_bound) & (df_clean[col] <= upper_bound)]\n",
    "\n",
    "    removed_rows = initial_rows - len(df_clean)\n",
    "    print(f\"Removed {removed_rows} rows ({(removed_rows / initial_rows) * 100:.2f}% of data)\")\n",
    "\n",
    "    return df_clean\n"
   ],
   "id": "d726b946f468b963",
   "outputs": [],
   "execution_count": 16
  },
  {
   "metadata": {
    "ExecuteTime": {
     "end_time": "2025-07-03T15:23:58.854061Z",
     "start_time": "2025-07-03T15:23:58.821146Z"
    }
   },
   "cell_type": "code",
   "source": [
    "from sklearn.model_selection import train_test_split\n",
    "\n",
    "loaded_data = loaded_data.dropna(subset=['0', '1', '2', '3', '4', 'engine_capacity_cc'])\n",
    "# loaded_data = loaded_data.dropna()\n",
    "loaded_data = remove_outliers(loaded_data)\n",
    "\n",
    "loaded_data.info()"
   ],
   "id": "52a7da4e496b9130",
   "outputs": [
    {
     "name": "stdout",
     "output_type": "stream",
     "text": [
      "Removed 382 rows (8.21% of data)\n",
      "<class 'pandas.core.frame.DataFrame'>\n",
      "Index: 4272 entries, 0 to 7960\n",
      "Data columns (total 19 columns):\n",
      " #   Column              Non-Null Count  Dtype  \n",
      "---  ------              --------------  -----  \n",
      " 0   0                   4272 non-null   float64\n",
      " 1   1                   4272 non-null   float64\n",
      " 2   2                   4272 non-null   float64\n",
      " 3   3                   4272 non-null   float64\n",
      " 4   4                   4272 non-null   float64\n",
      " 5   brand               4272 non-null   object \n",
      " 6   model               4272 non-null   object \n",
      " 7   trim                4268 non-null   object \n",
      " 8   body_type           4272 non-null   object \n",
      " 9   fuel_type           4272 non-null   object \n",
      " 10  transmission_type   4272 non-null   object \n",
      " 11  engine_capacity_cc  4272 non-null   object \n",
      " 12  horsepower          4225 non-null   object \n",
      " 13  exterior_color      4272 non-null   object \n",
      " 14  interior_color      4272 non-null   object \n",
      " 15  warranty            4272 non-null   object \n",
      " 16  city                4272 non-null   object \n",
      " 17  seller_type         4272 non-null   object \n",
      " 18  price               4272 non-null   int64  \n",
      "dtypes: float64(5), int64(1), object(13)\n",
      "memory usage: 667.5+ KB\n"
     ]
    }
   ],
   "execution_count": 17
  },
  {
   "metadata": {
    "ExecuteTime": {
     "end_time": "2025-07-03T15:23:59.033944Z",
     "start_time": "2025-07-03T15:23:58.938692Z"
    }
   },
   "cell_type": "code",
   "source": [
    "df = loaded_data.copy()\n",
    "\n",
    "def extract_range_mean(val):\n",
    "    try:\n",
    "        nums = [int(s) for s in val.replace('cc','').replace('HP','').split('-')]\n",
    "        return np.mean(nums)\n",
    "    except:\n",
    "        return np.nan\n",
    "\n",
    "df['engine_capacity'] = df['engine_capacity_cc'].apply(extract_range_mean)\n",
    "df['horsepower_val'] = df['horsepower'].apply(extract_range_mean)\n",
    "df.drop(columns=['engine_capacity_cc', 'horsepower'], inplace=True)\n",
    "\n",
    "# Target mean encoding manually\n",
    "for col in ['brand', 'model', 'trim']:\n",
    "    means = df.groupby(col)['price'].mean()\n",
    "    df[col + '_enc'] = df[col].map(means)\n",
    "\n",
    "# Drop original high-cardinality categorical columns\n",
    "df.drop(columns=['brand', 'model', 'trim'], inplace=True)"
   ],
   "id": "88b2790ffa96fdc6",
   "outputs": [],
   "execution_count": 18
  },
  {
   "metadata": {
    "ExecuteTime": {
     "end_time": "2025-07-03T15:23:59.125894Z",
     "start_time": "2025-07-03T15:23:59.115833Z"
    }
   },
   "cell_type": "code",
   "source": "df.info()",
   "id": "254d088521d583bb",
   "outputs": [
    {
     "name": "stdout",
     "output_type": "stream",
     "text": [
      "<class 'pandas.core.frame.DataFrame'>\n",
      "Index: 4272 entries, 0 to 7960\n",
      "Data columns (total 19 columns):\n",
      " #   Column             Non-Null Count  Dtype  \n",
      "---  ------             --------------  -----  \n",
      " 0   0                  4272 non-null   float64\n",
      " 1   1                  4272 non-null   float64\n",
      " 2   2                  4272 non-null   float64\n",
      " 3   3                  4272 non-null   float64\n",
      " 4   4                  4272 non-null   float64\n",
      " 5   body_type          4272 non-null   object \n",
      " 6   fuel_type          4272 non-null   object \n",
      " 7   transmission_type  4272 non-null   object \n",
      " 8   exterior_color     4272 non-null   object \n",
      " 9   interior_color     4272 non-null   object \n",
      " 10  warranty           4272 non-null   object \n",
      " 11  city               4272 non-null   object \n",
      " 12  seller_type        4272 non-null   object \n",
      " 13  price              4272 non-null   int64  \n",
      " 14  engine_capacity    3169 non-null   float64\n",
      " 15  horsepower_val     3910 non-null   float64\n",
      " 16  brand_enc          4272 non-null   float64\n",
      " 17  model_enc          4272 non-null   float64\n",
      " 18  trim_enc           4268 non-null   float64\n",
      "dtypes: float64(10), int64(1), object(8)\n",
      "memory usage: 667.5+ KB\n"
     ]
    }
   ],
   "execution_count": 19
  },
  {
   "metadata": {
    "ExecuteTime": {
     "end_time": "2025-07-03T15:23:59.226878Z",
     "start_time": "2025-07-03T15:23:59.219598Z"
    }
   },
   "cell_type": "code",
   "source": [
    "X = df.drop(columns=['price'])\n",
    "y = df['price']\n",
    "\n",
    "# X_train_val, X_test, y_train_val, y_test = train_test_split(X, y, test_size=0.2, random_state=42)\n",
    "# X_train, X_valid, y_train, y_valid = train_test_split(X_train_val, y_train_val, test_size=0.2, random_state=42)\n",
    "\n",
    "X_train, X_valid, y_train, y_valid = train_test_split(X, y, test_size=0.2, random_state=42)\n",
    "\n",
    "print(f'X_train shape = {X_train.shape}')"
   ],
   "id": "40a4b26e55237399",
   "outputs": [
    {
     "name": "stdout",
     "output_type": "stream",
     "text": [
      "X_train shape = (3417, 18)\n"
     ]
    }
   ],
   "execution_count": 20
  },
  {
   "metadata": {
    "ExecuteTime": {
     "end_time": "2025-07-03T15:23:59.326256Z",
     "start_time": "2025-07-03T15:23:59.323760Z"
    }
   },
   "cell_type": "code",
   "source": "# y_train = np.log1p(y_train)",
   "id": "1bd8513461d43392",
   "outputs": [],
   "execution_count": 21
  },
  {
   "metadata": {
    "ExecuteTime": {
     "end_time": "2025-07-03T15:23:59.447631Z",
     "start_time": "2025-07-03T15:23:59.442052Z"
    }
   },
   "cell_type": "code",
   "source": [
    "numerical_features = X_train.select_dtypes(include=['int64', 'float64']).columns.tolist()\n",
    "categorical_features = X_train.select_dtypes(include=['object']).columns.tolist()\n",
    "\n",
    "print(\"Numerical features:\", numerical_features)\n",
    "print(\"Categorical features:\", categorical_features)"
   ],
   "id": "aeec3246b05f5391",
   "outputs": [
    {
     "name": "stdout",
     "output_type": "stream",
     "text": [
      "Numerical features: ['0', '1', '2', '3', '4', 'engine_capacity', 'horsepower_val', 'brand_enc', 'model_enc', 'trim_enc']\n",
      "Categorical features: ['body_type', 'fuel_type', 'transmission_type', 'exterior_color', 'interior_color', 'warranty', 'city', 'seller_type']\n"
     ]
    }
   ],
   "execution_count": 22
  },
  {
   "metadata": {
    "ExecuteTime": {
     "end_time": "2025-07-03T15:23:59.573296Z",
     "start_time": "2025-07-03T15:23:59.534172Z"
    }
   },
   "cell_type": "code",
   "source": [
    "from sklearn.impute import SimpleImputer\n",
    "from sklearn.pipeline import Pipeline\n",
    "from sklearn.preprocessing import StandardScaler, OneHotEncoder\n",
    "from sklearn.compose import ColumnTransformer\n",
    "\n",
    "numeric_transformer = Pipeline(steps=[\n",
    "    ('imputer', SimpleImputer(strategy='mean')),\n",
    "    ('scaler', StandardScaler())\n",
    "])\n",
    "\n",
    "categorical_transformer = Pipeline(steps=[\n",
    "    ('imputer', SimpleImputer(strategy='most_frequent')),\n",
    "    ('onehot', OneHotEncoder(handle_unknown='ignore'))\n",
    "])\n",
    "\n",
    "preprocessor = ColumnTransformer(\n",
    "    transformers=[\n",
    "        ('num', numeric_transformer, numerical_features),\n",
    "        ('cat', categorical_transformer, categorical_features)\n",
    "    ])\n",
    "\n",
    "pipeline = Pipeline([\n",
    "    ('preprocessor', preprocessor)\n",
    "])\n",
    "\n",
    "X_train_transformed = pipeline.fit_transform(X_train)\n",
    "X_valid_transformed = pipeline.transform(X_valid)\n"
   ],
   "id": "52e6cb480749a2ce",
   "outputs": [],
   "execution_count": 23
  },
  {
   "metadata": {
    "ExecuteTime": {
     "end_time": "2025-07-03T15:23:59.652467Z",
     "start_time": "2025-07-03T15:23:59.643486Z"
    }
   },
   "cell_type": "code",
   "source": [
    "from sklearn.ensemble import  ExtraTreesRegressor\n",
    "from catboost import CatBoostRegressor\n",
    "\n",
    "models = {\n",
    "    # \"RandomForest\": RandomForestRegressor(random_state=42),\n",
    "    \"ExtraTrees\": ExtraTreesRegressor(random_state=42),\n",
    "    # \"XGBoost\": XGBRegressor(verbosity=0, random_state=42),\n",
    "    \"CatBoost\": CatBoostRegressor(verbose=0, random_state=42),\n",
    "}"
   ],
   "id": "375d7f00f13f23dd",
   "outputs": [],
   "execution_count": 24
  },
  {
   "metadata": {
    "ExecuteTime": {
     "end_time": "2025-07-03T15:23:59.745748Z",
     "start_time": "2025-07-03T15:23:59.741172Z"
    }
   },
   "cell_type": "code",
   "source": [
    "from sklearn.metrics import mean_squared_error, mean_absolute_error, r2_score\n",
    "import numpy as np\n",
    "\n",
    "\n",
    "def train_and_evaluate(models, X_train, y_train, X_valid, y_valid):\n",
    "    results = {}\n",
    "\n",
    "    for name, model in models.items():\n",
    "        print(f\"Training {name}...\")\n",
    "        model.fit(X_train, y_train)\n",
    "        predictions = model.predict(X_valid)\n",
    "\n",
    "        # predictions = np.expm1(predictions)\n",
    "\n",
    "        mse = mean_squared_error(y_valid, predictions)\n",
    "        rmse = np.sqrt(mse)\n",
    "        mae = mean_absolute_error(y_valid, predictions)\n",
    "        r2 = r2_score(y_valid, predictions)\n",
    "\n",
    "        results[name] = {\n",
    "            \"MSE\": mse,\n",
    "            \"RMSE\": rmse,\n",
    "            \"MAE\": mae,\n",
    "            \"R2\": r2\n",
    "        }\n",
    "    return results\n"
   ],
   "id": "3aa16a221973c945",
   "outputs": [],
   "execution_count": 25
  },
  {
   "metadata": {
    "ExecuteTime": {
     "end_time": "2025-07-03T15:24:34.809796Z",
     "start_time": "2025-07-03T15:23:59.822325Z"
    }
   },
   "cell_type": "code",
   "source": [
    "results = train_and_evaluate(models, X_train_transformed, y_train, X_valid_transformed, y_valid)\n",
    "results_df = pd.DataFrame(results).T.sort_values(by=\"RMSE\")\n",
    "print(results_df)\n",
    "\n",
    "#                      MSE          RMSE           MAE        R2\n",
    "# CatBoost    1.956715e+09  44234.776978  26361.880504  0.855848\n",
    "# ExtraTrees  2.240080e+09  47329.480620  25994.048573  0.834973\n"
   ],
   "id": "d48c63ceeb1cc93a",
   "outputs": [
    {
     "name": "stdout",
     "output_type": "stream",
     "text": [
      "Training ExtraTrees...\n",
      "Training CatBoost...\n",
      "                     MSE          RMSE           MAE        R2\n",
      "CatBoost    1.865906e+09  43196.132857  25924.038388  0.862538\n",
      "ExtraTrees  2.256342e+09  47500.965423  26035.063345  0.833775\n"
     ]
    }
   ],
   "execution_count": 26
  }
 ],
 "metadata": {
  "kernelspec": {
   "display_name": "Python 3",
   "language": "python",
   "name": "python3"
  },
  "language_info": {
   "codemirror_mode": {
    "name": "ipython",
    "version": 2
   },
   "file_extension": ".py",
   "mimetype": "text/x-python",
   "name": "python",
   "nbconvert_exporter": "python",
   "pygments_lexer": "ipython2",
   "version": "2.7.6"
  }
 },
 "nbformat": 4,
 "nbformat_minor": 5
}
